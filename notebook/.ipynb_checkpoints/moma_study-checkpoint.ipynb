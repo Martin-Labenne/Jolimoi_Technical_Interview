{
 "cells": [
  {
   "cell_type": "markdown",
   "metadata": {},
   "source": [
    "# <div style=\"text-align:center;\">Museum Of Modern Art, Data Exploration</div>"
   ]
  },
  {
   "cell_type": "markdown",
   "metadata": {},
   "source": [
    "### Package import"
   ]
  },
  {
   "cell_type": "code",
   "execution_count": 1,
   "metadata": {},
   "outputs": [],
   "source": [
    "# data storage and algebra\n",
    "import pandas as pd\n",
    "import numpy as np\n",
    "from scipy.stats import chi2_contingency\n",
    "from math import sqrt\n",
    "\n",
    "# data query\n",
    "import sqlite3 as sql\n",
    "\n",
    "# plot data\n",
    "import seaborn as sns\n",
    "import matplotlib.pyplot as plt\n",
    "from wordcloud import WordCloud\n",
    "\n",
    "# clusters\n",
    "from kmodes.kprototypes import KPrototypes\n",
    "#from kmodes.kmodes import KModes\n",
    "#from sklearn.cluster import KMeans\n",
    "#from sklearn.metrics import silhouette_score\n",
    "\n",
    "# others\n",
    "from datetime import datetime"
   ]
  },
  {
   "cell_type": "markdown",
   "metadata": {},
   "source": [
    "### Establishing connection with the Database"
   ]
  },
  {
   "cell_type": "code",
   "execution_count": 2,
   "metadata": {},
   "outputs": [],
   "source": [
    "path = \"../data/\"\n",
    "db = path + \"artists.db\"\n",
    "connector = sql.connect(db)"
   ]
  },
  {
   "cell_type": "markdown",
   "metadata": {},
   "source": [
    "### First query"
   ]
  },
  {
   "cell_type": "code",
   "execution_count": 3,
   "metadata": {},
   "outputs": [
    {
     "data": {
      "text/html": [
       "<div>\n",
       "<style scoped>\n",
       "    .dataframe tbody tr th:only-of-type {\n",
       "        vertical-align: middle;\n",
       "    }\n",
       "\n",
       "    .dataframe tbody tr th {\n",
       "        vertical-align: top;\n",
       "    }\n",
       "\n",
       "    .dataframe thead th {\n",
       "        text-align: right;\n",
       "    }\n",
       "</style>\n",
       "<table border=\"1\" class=\"dataframe\">\n",
       "  <thead>\n",
       "    <tr style=\"text-align: right;\">\n",
       "      <th></th>\n",
       "      <th>rowNb</th>\n",
       "    </tr>\n",
       "  </thead>\n",
       "  <tbody>\n",
       "    <tr>\n",
       "      <th>0</th>\n",
       "      <td>15091</td>\n",
       "    </tr>\n",
       "  </tbody>\n",
       "</table>\n",
       "</div>"
      ],
      "text/plain": [
       "   rowNb\n",
       "0  15091"
      ]
     },
     "execution_count": 3,
     "metadata": {},
     "output_type": "execute_result"
    }
   ],
   "source": [
    "pd.read_sql(\"\"\"SELECT COUNT(*) AS rowNb FROM artists;\"\"\", connector)"
   ]
  },
  {
   "cell_type": "markdown",
   "metadata": {},
   "source": [
    "#### <div style=\"text-align:center;\">Now that we've established the connection, we are good to go !</div>"
   ]
  },
  {
   "cell_type": "markdown",
   "metadata": {},
   "source": [
    "## SQL : Which artist in this data set lived the longest?"
   ]
  },
  {
   "cell_type": "code",
   "execution_count": 4,
   "metadata": {},
   "outputs": [
    {
     "data": {
      "text/html": [
       "<div>\n",
       "<style scoped>\n",
       "    .dataframe tbody tr th:only-of-type {\n",
       "        vertical-align: middle;\n",
       "    }\n",
       "\n",
       "    .dataframe tbody tr th {\n",
       "        vertical-align: top;\n",
       "    }\n",
       "\n",
       "    .dataframe thead th {\n",
       "        text-align: right;\n",
       "    }\n",
       "</style>\n",
       "<table border=\"1\" class=\"dataframe\">\n",
       "  <thead>\n",
       "    <tr style=\"text-align: right;\">\n",
       "      <th></th>\n",
       "      <th>Name</th>\n",
       "      <th>Nationality</th>\n",
       "      <th>Gender</th>\n",
       "      <th>Birth Year</th>\n",
       "      <th>Death Year</th>\n",
       "      <th>Age</th>\n",
       "    </tr>\n",
       "  </thead>\n",
       "  <tbody>\n",
       "    <tr>\n",
       "      <th>0</th>\n",
       "      <td>Union Paper Bag Machine Company, Philadelphia, PA</td>\n",
       "      <td>None</td>\n",
       "      <td>None</td>\n",
       "      <td>1869</td>\n",
       "      <td>1999</td>\n",
       "      <td>130</td>\n",
       "    </tr>\n",
       "  </tbody>\n",
       "</table>\n",
       "</div>"
      ],
      "text/plain": [
       "                                                Name Nationality Gender  \\\n",
       "0  Union Paper Bag Machine Company, Philadelphia, PA        None   None   \n",
       "\n",
       "   Birth Year  Death Year  Age  \n",
       "0        1869        1999  130  "
      ]
     },
     "execution_count": 4,
     "metadata": {},
     "output_type": "execute_result"
    }
   ],
   "source": [
    "pd.read_sql(\"\"\"SELECT Name, Nationality, Gender, `Birth Year`, `Death Year`, (`Death Year` - `Birth Year`) AS Age \n",
    "               FROM artists \n",
    "               WHERE Age = (\n",
    "                 SELECT MAX(`Death Year` - `Birth Year`)\n",
    "                 FROM artists\n",
    "               );\"\"\"\n",
    "            , connector)"
   ]
  },
  {
   "cell_type": "markdown",
   "metadata": {},
   "source": [
    "Looks strange, an age equals to 130 years ? Hum the Name field contains 'Company', lets see if there is some other case like this ... "
   ]
  },
  {
   "cell_type": "code",
   "execution_count": 5,
   "metadata": {},
   "outputs": [
    {
     "data": {
      "text/html": [
       "<div>\n",
       "<style scoped>\n",
       "    .dataframe tbody tr th:only-of-type {\n",
       "        vertical-align: middle;\n",
       "    }\n",
       "\n",
       "    .dataframe tbody tr th {\n",
       "        vertical-align: top;\n",
       "    }\n",
       "\n",
       "    .dataframe thead th {\n",
       "        text-align: right;\n",
       "    }\n",
       "</style>\n",
       "<table border=\"1\" class=\"dataframe\">\n",
       "  <thead>\n",
       "    <tr style=\"text-align: right;\">\n",
       "      <th></th>\n",
       "      <th>Name</th>\n",
       "      <th>Nationality</th>\n",
       "      <th>Gender</th>\n",
       "      <th>Birth Year</th>\n",
       "      <th>Death Year</th>\n",
       "      <th>Age</th>\n",
       "    </tr>\n",
       "  </thead>\n",
       "  <tbody>\n",
       "    <tr>\n",
       "      <th>0</th>\n",
       "      <td>C.N. and Company</td>\n",
       "      <td>British</td>\n",
       "      <td>None</td>\n",
       "      <td>NaN</td>\n",
       "      <td>NaN</td>\n",
       "      <td>NaN</td>\n",
       "    </tr>\n",
       "    <tr>\n",
       "      <th>1</th>\n",
       "      <td>Robert Gair Company</td>\n",
       "      <td>American</td>\n",
       "      <td>None</td>\n",
       "      <td>NaN</td>\n",
       "      <td>NaN</td>\n",
       "      <td>NaN</td>\n",
       "    </tr>\n",
       "    <tr>\n",
       "      <th>2</th>\n",
       "      <td>Karhula-Iitala, company design</td>\n",
       "      <td>Finnish</td>\n",
       "      <td>None</td>\n",
       "      <td>NaN</td>\n",
       "      <td>NaN</td>\n",
       "      <td>NaN</td>\n",
       "    </tr>\n",
       "    <tr>\n",
       "      <th>3</th>\n",
       "      <td>Rosenthal Porzellan A.g., company design</td>\n",
       "      <td>German</td>\n",
       "      <td>None</td>\n",
       "      <td>1879.0</td>\n",
       "      <td>NaN</td>\n",
       "      <td>NaN</td>\n",
       "    </tr>\n",
       "    <tr>\n",
       "      <th>4</th>\n",
       "      <td>W.H.L. Skeen and Company</td>\n",
       "      <td>British</td>\n",
       "      <td>None</td>\n",
       "      <td>NaN</td>\n",
       "      <td>NaN</td>\n",
       "      <td>NaN</td>\n",
       "    </tr>\n",
       "  </tbody>\n",
       "</table>\n",
       "</div>"
      ],
      "text/plain": [
       "                                       Name Nationality Gender  Birth Year  \\\n",
       "0                          C.N. and Company     British   None         NaN   \n",
       "1                       Robert Gair Company    American   None         NaN   \n",
       "2            Karhula-Iitala, company design     Finnish   None         NaN   \n",
       "3  Rosenthal Porzellan A.g., company design      German   None      1879.0   \n",
       "4                  W.H.L. Skeen and Company     British   None         NaN   \n",
       "\n",
       "   Death Year  Age  \n",
       "0         NaN  NaN  \n",
       "1         NaN  NaN  \n",
       "2         NaN  NaN  \n",
       "3         NaN  NaN  \n",
       "4         NaN  NaN  "
      ]
     },
     "execution_count": 5,
     "metadata": {},
     "output_type": "execute_result"
    }
   ],
   "source": [
    "pd.read_sql(\"\"\"SELECT Name, Nationality, Gender, `Birth Year`, `Death Year`, (`Death Year` - `Birth Year`) AS Age \n",
    "               FROM artists \n",
    "               WHERE LOWER(Name) LIKE '%company%'\n",
    "               ORDER BY Age; \"\"\"\n",
    "            , connector).head() #pd.DataFrame.head() allows us to only print the 5 first lines in the dataframe"
   ]
  },
  {
   "cell_type": "markdown",
   "metadata": {},
   "source": [
    "Okay, other companies exists and seems to have undefined lifetime ... Let's just take a look to the number of them and then we should be able to answer the question."
   ]
  },
  {
   "cell_type": "code",
   "execution_count": 6,
   "metadata": {},
   "outputs": [
    {
     "data": {
      "text/html": [
       "<div>\n",
       "<style scoped>\n",
       "    .dataframe tbody tr th:only-of-type {\n",
       "        vertical-align: middle;\n",
       "    }\n",
       "\n",
       "    .dataframe tbody tr th {\n",
       "        vertical-align: top;\n",
       "    }\n",
       "\n",
       "    .dataframe thead th {\n",
       "        text-align: right;\n",
       "    }\n",
       "</style>\n",
       "<table border=\"1\" class=\"dataframe\">\n",
       "  <thead>\n",
       "    <tr style=\"text-align: right;\">\n",
       "      <th></th>\n",
       "      <th>CompaniesNb</th>\n",
       "    </tr>\n",
       "  </thead>\n",
       "  <tbody>\n",
       "    <tr>\n",
       "      <th>0</th>\n",
       "      <td>71</td>\n",
       "    </tr>\n",
       "  </tbody>\n",
       "</table>\n",
       "</div>"
      ],
      "text/plain": [
       "   CompaniesNb\n",
       "0           71"
      ]
     },
     "execution_count": 6,
     "metadata": {},
     "output_type": "execute_result"
    }
   ],
   "source": [
    "pd.read_sql(\"\"\"SELECT count(*) AS CompaniesNb \n",
    "               FROM artists \n",
    "               WHERE LOWER(Name) LIKE '%company%'; \"\"\"\n",
    "            , connector)"
   ]
  },
  {
   "cell_type": "code",
   "execution_count": 7,
   "metadata": {},
   "outputs": [
    {
     "data": {
      "text/html": [
       "<div>\n",
       "<style scoped>\n",
       "    .dataframe tbody tr th:only-of-type {\n",
       "        vertical-align: middle;\n",
       "    }\n",
       "\n",
       "    .dataframe tbody tr th {\n",
       "        vertical-align: top;\n",
       "    }\n",
       "\n",
       "    .dataframe thead th {\n",
       "        text-align: right;\n",
       "    }\n",
       "</style>\n",
       "<table border=\"1\" class=\"dataframe\">\n",
       "  <thead>\n",
       "    <tr style=\"text-align: right;\">\n",
       "      <th></th>\n",
       "      <th>NbOfCompaniesWithAge</th>\n",
       "    </tr>\n",
       "  </thead>\n",
       "  <tbody>\n",
       "    <tr>\n",
       "      <th>0</th>\n",
       "      <td>4</td>\n",
       "    </tr>\n",
       "  </tbody>\n",
       "</table>\n",
       "</div>"
      ],
      "text/plain": [
       "   NbOfCompaniesWithAge\n",
       "0                     4"
      ]
     },
     "execution_count": 7,
     "metadata": {},
     "output_type": "execute_result"
    }
   ],
   "source": [
    "pd.read_sql(\"\"\"SELECT count(*) AS NbOfCompaniesWithAge\n",
    "               FROM artists \n",
    "               WHERE LOWER(Name) LIKE '%company%'\n",
    "               AND (`Death Year` - `Birth Year`) NOT NULL; \"\"\"\n",
    "            , connector)"
   ]
  },
  {
   "cell_type": "markdown",
   "metadata": {},
   "source": [
    "Recap : Compagnies are present in this dataset and most of them (94%) doest not have a defined lifetime. "
   ]
  },
  {
   "cell_type": "code",
   "execution_count": 8,
   "metadata": {},
   "outputs": [
    {
     "data": {
      "text/html": [
       "<div>\n",
       "<style scoped>\n",
       "    .dataframe tbody tr th:only-of-type {\n",
       "        vertical-align: middle;\n",
       "    }\n",
       "\n",
       "    .dataframe tbody tr th {\n",
       "        vertical-align: top;\n",
       "    }\n",
       "\n",
       "    .dataframe thead th {\n",
       "        text-align: right;\n",
       "    }\n",
       "</style>\n",
       "<table border=\"1\" class=\"dataframe\">\n",
       "  <thead>\n",
       "    <tr style=\"text-align: right;\">\n",
       "      <th></th>\n",
       "      <th>Name</th>\n",
       "      <th>Nationality</th>\n",
       "      <th>Gender</th>\n",
       "      <th>Birth Year</th>\n",
       "      <th>Death Year</th>\n",
       "      <th>Age</th>\n",
       "    </tr>\n",
       "  </thead>\n",
       "  <tbody>\n",
       "    <tr>\n",
       "      <th>0</th>\n",
       "      <td>Vincent-HRD Company Ltd., Stevenage, Herts, En...</td>\n",
       "      <td>British</td>\n",
       "      <td>None</td>\n",
       "      <td>1928</td>\n",
       "      <td>1955</td>\n",
       "      <td>27</td>\n",
       "    </tr>\n",
       "    <tr>\n",
       "      <th>1</th>\n",
       "      <td>Rockwood and Company</td>\n",
       "      <td>American</td>\n",
       "      <td>None</td>\n",
       "      <td>1832</td>\n",
       "      <td>1911</td>\n",
       "      <td>79</td>\n",
       "    </tr>\n",
       "    <tr>\n",
       "      <th>2</th>\n",
       "      <td>Keystone View Company</td>\n",
       "      <td>American</td>\n",
       "      <td>None</td>\n",
       "      <td>1892</td>\n",
       "      <td>1972</td>\n",
       "      <td>80</td>\n",
       "    </tr>\n",
       "    <tr>\n",
       "      <th>3</th>\n",
       "      <td>Union Paper Bag Machine Company, Philadelphia, PA</td>\n",
       "      <td>None</td>\n",
       "      <td>None</td>\n",
       "      <td>1869</td>\n",
       "      <td>1999</td>\n",
       "      <td>130</td>\n",
       "    </tr>\n",
       "  </tbody>\n",
       "</table>\n",
       "</div>"
      ],
      "text/plain": [
       "                                                Name Nationality Gender  \\\n",
       "0  Vincent-HRD Company Ltd., Stevenage, Herts, En...     British   None   \n",
       "1                               Rockwood and Company    American   None   \n",
       "2                              Keystone View Company    American   None   \n",
       "3  Union Paper Bag Machine Company, Philadelphia, PA        None   None   \n",
       "\n",
       "   Birth Year  Death Year  Age  \n",
       "0        1928        1955   27  \n",
       "1        1832        1911   79  \n",
       "2        1892        1972   80  \n",
       "3        1869        1999  130  "
      ]
     },
     "execution_count": 8,
     "metadata": {},
     "output_type": "execute_result"
    }
   ],
   "source": [
    "pd.read_sql(\"\"\"SELECT Name, Nationality, Gender, `Birth Year`, `Death Year`, (`Death Year` - `Birth Year`) AS Age \n",
    "               FROM artists \n",
    "               WHERE LOWER(Name) LIKE '%company%'\n",
    "               AND Age NOT NULL\n",
    "               ORDER BY Age; \"\"\"\n",
    "            , connector)"
   ]
  },
  {
   "cell_type": "markdown",
   "metadata": {},
   "source": [
    "In addition, those wo have a defined age tend to bias the results (except for Vincent-HRD Company Ltd) and it is a tiny part of our dataset. <em>At this stage of exploration<em>, it seems to be adequate to aside them."
   ]
  },
  {
   "cell_type": "code",
   "execution_count": 9,
   "metadata": {},
   "outputs": [
    {
     "data": {
      "text/html": [
       "<div>\n",
       "<style scoped>\n",
       "    .dataframe tbody tr th:only-of-type {\n",
       "        vertical-align: middle;\n",
       "    }\n",
       "\n",
       "    .dataframe tbody tr th {\n",
       "        vertical-align: top;\n",
       "    }\n",
       "\n",
       "    .dataframe thead th {\n",
       "        text-align: right;\n",
       "    }\n",
       "</style>\n",
       "<table border=\"1\" class=\"dataframe\">\n",
       "  <thead>\n",
       "    <tr style=\"text-align: right;\">\n",
       "      <th></th>\n",
       "      <th>Name</th>\n",
       "      <th>Nationality</th>\n",
       "      <th>Gender</th>\n",
       "      <th>Birth Year</th>\n",
       "      <th>Death Year</th>\n",
       "      <th>Age</th>\n",
       "    </tr>\n",
       "  </thead>\n",
       "  <tbody>\n",
       "    <tr>\n",
       "      <th>0</th>\n",
       "      <td>Leni Matthaei</td>\n",
       "      <td>German</td>\n",
       "      <td>Female</td>\n",
       "      <td>1873</td>\n",
       "      <td>1981</td>\n",
       "      <td>108</td>\n",
       "    </tr>\n",
       "    <tr>\n",
       "      <th>1</th>\n",
       "      <td>B. Efimov</td>\n",
       "      <td>Russian</td>\n",
       "      <td>Male</td>\n",
       "      <td>1900</td>\n",
       "      <td>2008</td>\n",
       "      <td>108</td>\n",
       "    </tr>\n",
       "  </tbody>\n",
       "</table>\n",
       "</div>"
      ],
      "text/plain": [
       "            Name Nationality  Gender  Birth Year  Death Year  Age\n",
       "0  Leni Matthaei      German  Female        1873        1981  108\n",
       "1      B. Efimov     Russian    Male        1900        2008  108"
      ]
     },
     "execution_count": 9,
     "metadata": {},
     "output_type": "execute_result"
    }
   ],
   "source": [
    "pd.read_sql(\"\"\"SELECT Name, Nationality, Gender, `Birth Year`, `Death Year`, (`Death Year` - `Birth Year`) AS Age \n",
    "               FROM artists \n",
    "               WHERE Age = (\n",
    "                 SELECT MAX(`Death Year` - `Birth Year`)\n",
    "                 FROM artists\n",
    "                 WHERE LOWER(Name) NOT LIKE '%company%'\n",
    "               );\"\"\"\n",
    "            , connector)"
   ]
  },
  {
   "cell_type": "markdown",
   "metadata": {},
   "source": [
    "<div>According to Wikipedia,</div> \n",
    "<div><strong>Leni Matthaei</strong> : June 2, 1873 - January 24, 1981</div>\n",
    "<div><strong>Boris Efimov</strong> : September 28, 1900 - October 1, 2008</div>"
   ]
  },
  {
   "cell_type": "code",
   "execution_count": 10,
   "metadata": {},
   "outputs": [
    {
     "data": {
      "text/plain": [
       "'Boris Efimov lived the longest'"
      ]
     },
     "execution_count": 10,
     "metadata": {},
     "output_type": "execute_result"
    }
   ],
   "source": [
    "condition = ( datetime(1981, 1, 24) - datetime(1873, 6, 2) ) > ( datetime(2008, 10, 1) - datetime(1900, 9, 28) )\n",
    "\"Leni Matthaei lived the longest\" if condition else \"Boris Efimov lived the longest\""
   ]
  },
  {
   "cell_type": "markdown",
   "metadata": {},
   "source": [
    "#### <div style=\"text-align:center;\">Boris Efimov is the one who lived the longest among MoMa artists</div>"
   ]
  },
  {
   "cell_type": "markdown",
   "metadata": {},
   "source": [
    "## SQL : Who are the top 10 artists by the number of artworks?"
   ]
  },
  {
   "cell_type": "code",
   "execution_count": 11,
   "metadata": {},
   "outputs": [
    {
     "data": {
      "text/html": [
       "<div>\n",
       "<style scoped>\n",
       "    .dataframe tbody tr th:only-of-type {\n",
       "        vertical-align: middle;\n",
       "    }\n",
       "\n",
       "    .dataframe tbody tr th {\n",
       "        vertical-align: top;\n",
       "    }\n",
       "\n",
       "    .dataframe thead th {\n",
       "        text-align: right;\n",
       "    }\n",
       "</style>\n",
       "<table border=\"1\" class=\"dataframe\">\n",
       "  <thead>\n",
       "    <tr style=\"text-align: right;\">\n",
       "      <th></th>\n",
       "      <th>Name</th>\n",
       "      <th>nbOfArtworks</th>\n",
       "    </tr>\n",
       "  </thead>\n",
       "  <tbody>\n",
       "    <tr>\n",
       "      <th>0</th>\n",
       "      <td>Eugène Atget</td>\n",
       "      <td>5050</td>\n",
       "    </tr>\n",
       "    <tr>\n",
       "      <th>1</th>\n",
       "      <td>Louise Bourgeois</td>\n",
       "      <td>3318</td>\n",
       "    </tr>\n",
       "    <tr>\n",
       "      <th>2</th>\n",
       "      <td>Ludwig Mies van der Rohe</td>\n",
       "      <td>2566</td>\n",
       "    </tr>\n",
       "    <tr>\n",
       "      <th>3</th>\n",
       "      <td>Unknown photographer</td>\n",
       "      <td>1575</td>\n",
       "    </tr>\n",
       "    <tr>\n",
       "      <th>4</th>\n",
       "      <td>None</td>\n",
       "      <td>1460</td>\n",
       "    </tr>\n",
       "    <tr>\n",
       "      <th>5</th>\n",
       "      <td>Jean Dubuffet</td>\n",
       "      <td>1435</td>\n",
       "    </tr>\n",
       "    <tr>\n",
       "      <th>6</th>\n",
       "      <td>Lee Friedlander</td>\n",
       "      <td>1317</td>\n",
       "    </tr>\n",
       "    <tr>\n",
       "      <th>7</th>\n",
       "      <td>Pablo Picasso</td>\n",
       "      <td>1310</td>\n",
       "    </tr>\n",
       "    <tr>\n",
       "      <th>8</th>\n",
       "      <td>Marc Chagall</td>\n",
       "      <td>1162</td>\n",
       "    </tr>\n",
       "    <tr>\n",
       "      <th>9</th>\n",
       "      <td>Henri Matisse</td>\n",
       "      <td>1063</td>\n",
       "    </tr>\n",
       "  </tbody>\n",
       "</table>\n",
       "</div>"
      ],
      "text/plain": [
       "                       Name  nbOfArtworks\n",
       "0              Eugène Atget          5050\n",
       "1          Louise Bourgeois          3318\n",
       "2  Ludwig Mies van der Rohe          2566\n",
       "3      Unknown photographer          1575\n",
       "4                      None          1460\n",
       "5             Jean Dubuffet          1435\n",
       "6           Lee Friedlander          1317\n",
       "7             Pablo Picasso          1310\n",
       "8              Marc Chagall          1162\n",
       "9             Henri Matisse          1063"
      ]
     },
     "execution_count": 11,
     "metadata": {},
     "output_type": "execute_result"
    }
   ],
   "source": [
    "pd.read_sql(\"\"\"SELECT Name, COUNT(*) AS nbOfArtworks\n",
    "               FROM artworks\n",
    "               GROUP BY Name\n",
    "               ORDER BY nbOfArtworks DESC \n",
    "               LIMIT 10;\n",
    "            \"\"\"\n",
    "            , connector)"
   ]
  },
  {
   "cell_type": "markdown",
   "metadata": {},
   "source": [
    "Here, we can see 2 feilds that aren't exact artist names : `'None'` and `'Unkown photographer'`. We should explore a bit to see where or not its relevant to ignore them as individual artists."
   ]
  },
  {
   "cell_type": "markdown",
   "metadata": {},
   "source": [
    "The easiest is to begin with `'None'`. It is an obvious Null values in the `artworks` table. Still, we should investigate before ignoring them.   "
   ]
  },
  {
   "cell_type": "code",
   "execution_count": 12,
   "metadata": {},
   "outputs": [
    {
     "data": {
      "text/html": [
       "<div>\n",
       "<style scoped>\n",
       "    .dataframe tbody tr th:only-of-type {\n",
       "        vertical-align: middle;\n",
       "    }\n",
       "\n",
       "    .dataframe tbody tr th {\n",
       "        vertical-align: top;\n",
       "    }\n",
       "\n",
       "    .dataframe thead th {\n",
       "        text-align: right;\n",
       "    }\n",
       "</style>\n",
       "<table border=\"1\" class=\"dataframe\">\n",
       "  <thead>\n",
       "    <tr style=\"text-align: right;\">\n",
       "      <th></th>\n",
       "      <th>Name</th>\n",
       "      <th>Classification</th>\n",
       "      <th>nbOfArtworks</th>\n",
       "    </tr>\n",
       "  </thead>\n",
       "  <tbody>\n",
       "    <tr>\n",
       "      <th>0</th>\n",
       "      <td>None</td>\n",
       "      <td>Print</td>\n",
       "      <td>336</td>\n",
       "    </tr>\n",
       "    <tr>\n",
       "      <th>1</th>\n",
       "      <td>None</td>\n",
       "      <td>Film</td>\n",
       "      <td>226</td>\n",
       "    </tr>\n",
       "    <tr>\n",
       "      <th>2</th>\n",
       "      <td>None</td>\n",
       "      <td>(not assigned)</td>\n",
       "      <td>208</td>\n",
       "    </tr>\n",
       "    <tr>\n",
       "      <th>3</th>\n",
       "      <td>None</td>\n",
       "      <td>Periodical</td>\n",
       "      <td>189</td>\n",
       "    </tr>\n",
       "    <tr>\n",
       "      <th>4</th>\n",
       "      <td>None</td>\n",
       "      <td>Photograph</td>\n",
       "      <td>132</td>\n",
       "    </tr>\n",
       "    <tr>\n",
       "      <th>5</th>\n",
       "      <td>None</td>\n",
       "      <td>Work on Paper</td>\n",
       "      <td>119</td>\n",
       "    </tr>\n",
       "    <tr>\n",
       "      <th>6</th>\n",
       "      <td>None</td>\n",
       "      <td>Frank Lloyd Wright Archive</td>\n",
       "      <td>53</td>\n",
       "    </tr>\n",
       "    <tr>\n",
       "      <th>7</th>\n",
       "      <td>None</td>\n",
       "      <td>Media</td>\n",
       "      <td>43</td>\n",
       "    </tr>\n",
       "    <tr>\n",
       "      <th>8</th>\n",
       "      <td>None</td>\n",
       "      <td>Design</td>\n",
       "      <td>38</td>\n",
       "    </tr>\n",
       "    <tr>\n",
       "      <th>9</th>\n",
       "      <td>None</td>\n",
       "      <td>Illustrated Book</td>\n",
       "      <td>37</td>\n",
       "    </tr>\n",
       "    <tr>\n",
       "      <th>10</th>\n",
       "      <td>None</td>\n",
       "      <td>Multiple</td>\n",
       "      <td>26</td>\n",
       "    </tr>\n",
       "    <tr>\n",
       "      <th>11</th>\n",
       "      <td>None</td>\n",
       "      <td>Drawing</td>\n",
       "      <td>22</td>\n",
       "    </tr>\n",
       "    <tr>\n",
       "      <th>12</th>\n",
       "      <td>None</td>\n",
       "      <td>Installation</td>\n",
       "      <td>14</td>\n",
       "    </tr>\n",
       "    <tr>\n",
       "      <th>13</th>\n",
       "      <td>None</td>\n",
       "      <td>Video</td>\n",
       "      <td>12</td>\n",
       "    </tr>\n",
       "    <tr>\n",
       "      <th>14</th>\n",
       "      <td>None</td>\n",
       "      <td>Architecture</td>\n",
       "      <td>3</td>\n",
       "    </tr>\n",
       "    <tr>\n",
       "      <th>15</th>\n",
       "      <td>None</td>\n",
       "      <td>Audio</td>\n",
       "      <td>1</td>\n",
       "    </tr>\n",
       "    <tr>\n",
       "      <th>16</th>\n",
       "      <td>None</td>\n",
       "      <td>Painting</td>\n",
       "      <td>1</td>\n",
       "    </tr>\n",
       "  </tbody>\n",
       "</table>\n",
       "</div>"
      ],
      "text/plain": [
       "    Name              Classification  nbOfArtworks\n",
       "0   None                       Print           336\n",
       "1   None                        Film           226\n",
       "2   None              (not assigned)           208\n",
       "3   None                  Periodical           189\n",
       "4   None                  Photograph           132\n",
       "5   None               Work on Paper           119\n",
       "6   None  Frank Lloyd Wright Archive            53\n",
       "7   None                       Media            43\n",
       "8   None                      Design            38\n",
       "9   None            Illustrated Book            37\n",
       "10  None                    Multiple            26\n",
       "11  None                     Drawing            22\n",
       "12  None                Installation            14\n",
       "13  None                       Video            12\n",
       "14  None                Architecture             3\n",
       "15  None                       Audio             1\n",
       "16  None                    Painting             1"
      ]
     },
     "execution_count": 12,
     "metadata": {},
     "output_type": "execute_result"
    }
   ],
   "source": [
    "pd.read_sql(\"\"\"SELECT Name, Classification, COUNT(*) AS nbOfArtworks\n",
    "               FROM artworks\n",
    "               WHERE Name IS NULL\n",
    "               GROUP BY Classification\n",
    "               ORDER BY nbOfArtworks DESC;\n",
    "            \"\"\"\n",
    "            , connector)"
   ]
  },
  {
   "cell_type": "markdown",
   "metadata": {},
   "source": [
    "We can see here quite a range of `'Classification'`, it is obvious that one artist cannot master all these technique in one life time. We <em>should not</em> consider `None` value as one artist."
   ]
  },
  {
   "cell_type": "markdown",
   "metadata": {},
   "source": [
    "The same way, we will investigate on this `'Unknown photographer'` before ignoring it as one single artist. But instead of consider `'Classification'`, we would consider the `'Date'` each artwork had been created. "
   ]
  },
  {
   "cell_type": "code",
   "execution_count": 13,
   "metadata": {},
   "outputs": [],
   "source": [
    "years = pd.read_sql(\"\"\"SELECT Date \n",
    "                       FROM artworks\n",
    "                       WHERE Name LIKE 'Unknown photographer';\n",
    "                       \"\"\"\n",
    "                    , connector)\n",
    "\n",
    "# replace every nasted dates by a valid yyyy year format\n",
    "years.replace(to_replace='^.*(\\d{4}).*$', value=r\"\\1\", regex=True, inplace=True)\n",
    "years.replace(to_replace='^(?!.*(\\d{4})).*$', value=np.NaN, regex=True, inplace=True)\n",
    "\n",
    "# unify the format of Na values\n",
    "years = years.astype('float64')\n",
    "years.dropna(inplace=True)"
   ]
  },
  {
   "cell_type": "code",
   "execution_count": 14,
   "metadata": {},
   "outputs": [
    {
     "name": "stdout",
     "output_type": "stream",
     "text": [
      "<class 'pandas.core.frame.DataFrame'>\n",
      "Int64Index: 1520 entries, 0 to 1573\n",
      "Data columns (total 1 columns):\n",
      "Date    1520 non-null float64\n",
      "dtypes: float64(1)\n",
      "memory usage: 23.8 KB\n"
     ]
    }
   ],
   "source": [
    "years.info()"
   ]
  },
  {
   "cell_type": "code",
   "execution_count": 15,
   "metadata": {},
   "outputs": [
    {
     "data": {
      "text/plain": [
       "Date    150.0\n",
       "dtype: float64"
      ]
     },
     "execution_count": 15,
     "metadata": {},
     "output_type": "execute_result"
    }
   ],
   "source": [
    "years.max() - years.min()"
   ]
  },
  {
   "cell_type": "markdown",
   "metadata": {},
   "source": [
    "Well, a range of <strong>150 years</strong> is quite high for only one individual, we can't consider 'Unknown photographer' as one single artist. We will drop this line."
   ]
  },
  {
   "cell_type": "code",
   "execution_count": 16,
   "metadata": {},
   "outputs": [
    {
     "data": {
      "text/html": [
       "<div>\n",
       "<style scoped>\n",
       "    .dataframe tbody tr th:only-of-type {\n",
       "        vertical-align: middle;\n",
       "    }\n",
       "\n",
       "    .dataframe tbody tr th {\n",
       "        vertical-align: top;\n",
       "    }\n",
       "\n",
       "    .dataframe thead th {\n",
       "        text-align: right;\n",
       "    }\n",
       "</style>\n",
       "<table border=\"1\" class=\"dataframe\">\n",
       "  <thead>\n",
       "    <tr style=\"text-align: right;\">\n",
       "      <th></th>\n",
       "      <th>Name</th>\n",
       "      <th>nbOfArtworks</th>\n",
       "    </tr>\n",
       "  </thead>\n",
       "  <tbody>\n",
       "    <tr>\n",
       "      <th>0</th>\n",
       "      <td>Eugène Atget</td>\n",
       "      <td>5050</td>\n",
       "    </tr>\n",
       "    <tr>\n",
       "      <th>1</th>\n",
       "      <td>Louise Bourgeois</td>\n",
       "      <td>3318</td>\n",
       "    </tr>\n",
       "    <tr>\n",
       "      <th>2</th>\n",
       "      <td>Ludwig Mies van der Rohe</td>\n",
       "      <td>2566</td>\n",
       "    </tr>\n",
       "    <tr>\n",
       "      <th>3</th>\n",
       "      <td>Jean Dubuffet</td>\n",
       "      <td>1435</td>\n",
       "    </tr>\n",
       "    <tr>\n",
       "      <th>4</th>\n",
       "      <td>Lee Friedlander</td>\n",
       "      <td>1317</td>\n",
       "    </tr>\n",
       "    <tr>\n",
       "      <th>5</th>\n",
       "      <td>Pablo Picasso</td>\n",
       "      <td>1310</td>\n",
       "    </tr>\n",
       "    <tr>\n",
       "      <th>6</th>\n",
       "      <td>Marc Chagall</td>\n",
       "      <td>1162</td>\n",
       "    </tr>\n",
       "    <tr>\n",
       "      <th>7</th>\n",
       "      <td>Henri Matisse</td>\n",
       "      <td>1063</td>\n",
       "    </tr>\n",
       "    <tr>\n",
       "      <th>8</th>\n",
       "      <td>Pierre Bonnard</td>\n",
       "      <td>894</td>\n",
       "    </tr>\n",
       "    <tr>\n",
       "      <th>9</th>\n",
       "      <td>Lilly Reich</td>\n",
       "      <td>823</td>\n",
       "    </tr>\n",
       "  </tbody>\n",
       "</table>\n",
       "</div>"
      ],
      "text/plain": [
       "                       Name  nbOfArtworks\n",
       "0              Eugène Atget          5050\n",
       "1          Louise Bourgeois          3318\n",
       "2  Ludwig Mies van der Rohe          2566\n",
       "3             Jean Dubuffet          1435\n",
       "4           Lee Friedlander          1317\n",
       "5             Pablo Picasso          1310\n",
       "6              Marc Chagall          1162\n",
       "7             Henri Matisse          1063\n",
       "8            Pierre Bonnard           894\n",
       "9               Lilly Reich           823"
      ]
     },
     "execution_count": 16,
     "metadata": {},
     "output_type": "execute_result"
    }
   ],
   "source": [
    "topTen = pd.read_sql(\"\"\"SELECT Name, COUNT(*) AS nbOfArtworks\n",
    "               FROM artworks\n",
    "               WHERE Name NOT NULL\n",
    "               AND Name NOT LIKE 'Unknown photographer'\n",
    "               GROUP BY Name\n",
    "               ORDER BY nbOfArtworks DESC \n",
    "               LIMIT 10;\n",
    "            \"\"\"\n",
    "            , connector)\n",
    "topTen"
   ]
  },
  {
   "cell_type": "markdown",
   "metadata": {},
   "source": [
    "Let's plot this result (design inpired by <a href=\"https://seaborn.pydata.org/examples/color_palettes.html\">seaborn gallery<a>)"
   ]
  },
  {
   "cell_type": "code",
   "execution_count": 17,
   "metadata": {},
   "outputs": [
    {
     "data": {
      "image/png": "[encoded data removed]",
      "text/plain": [
       "<Figure size 864x432 with 1 Axes>"
      ]
     },
     "metadata": {},
     "output_type": "display_data"
    }
   ],
   "source": [
    "sns.set(style=\"white\", context=\"talk\") # general theme\n",
    "\n",
    "f, ax = plt.subplots(1, 1, figsize=(12, 6), sharex=True)\n",
    "x = [ label.replace(' ', '\\n') for label in topTen['Name'] ] # label wrapping\n",
    "y = topTen['nbOfArtworks']\n",
    "sns.barplot(x=x, y=y, palette=\"rocket\") # data attribution and colors\n",
    "\n",
    "ax.axhline(0, color=\"k\", clip_on=False) \n",
    "sns.despine(bottom=True)\n",
    "\n",
    "ax.set_ylabel(\"Number of Artworks\")\n",
    "ax.set_xlabel(\"Artists\")\n",
    "\n",
    "plt.title(\"Top 10 artists by the number of artworks\")\n",
    "plt.tight_layout()"
   ]
  },
  {
   "cell_type": "markdown",
   "metadata": {},
   "source": [
    "## SQL : Which artist has created the most artwork by total surface area?"
   ]
  },
  {
   "cell_type": "markdown",
   "metadata": {},
   "source": [
    "First we will filtrate the data Filter the data with the aim of avoiding `NULL` and `'Unkown ...'` values in `Artworks.Names` column."
   ]
  },
  {
   "cell_type": "markdown",
   "metadata": {},
   "source": [
    "In addition, we will focus on <em>2D artworks</em> to avoid misclassification "
   ]
  },
  {
   "cell_type": "code",
   "execution_count": 18,
   "metadata": {},
   "outputs": [],
   "source": [
    "dimensions = pd.read_sql(\"\"\" SELECT `Diameter (cm)` AS Diameter, `Circumference (cm)` AS Circumference,\n",
    "                                    `Height (cm)` as Height, `Length (cm)` AS Length, `Width (cm)` AS Width, \n",
    "                                    `Depth (cm)` As Depth, Name AS Artist \n",
    "                             FROM artworks\n",
    "                             WHERE Artist IS NOT NULL\n",
    "                             AND Artist NOT LIKE '%Unknown%';\n",
    "                         \"\"\"\n",
    "                         , connector)"
   ]
  },
  {
   "cell_type": "code",
   "execution_count": 19,
   "metadata": {},
   "outputs": [
    {
     "name": "stdout",
     "output_type": "stream",
     "text": [
      "<class 'pandas.core.frame.DataFrame'>\n",
      "RangeIndex: 125780 entries, 0 to 125779\n",
      "Data columns (total 7 columns):\n",
      "Diameter         1337 non-null float64\n",
      "Circumference    10 non-null float64\n",
      "Height           108175 non-null float64\n",
      "Length           702 non-null float64\n",
      "Width            107331 non-null float64\n",
      "Depth            10843 non-null float64\n",
      "Artist           125780 non-null object\n",
      "dtypes: float64(6), object(1)\n",
      "memory usage: 6.7+ MB\n"
     ]
    }
   ],
   "source": [
    "dimensions.info()"
   ]
  },
  {
   "cell_type": "markdown",
   "metadata": {},
   "source": [
    "Hum ... Only `736` non-null <em>Length</em> entries</div>. Let's see if we can delete this column, let's begin by <em>grouping</em> non-null value by `'Department'`, it could tell us what kind of artwork it is."
   ]
  },
  {
   "cell_type": "code",
   "execution_count": 20,
   "metadata": {},
   "outputs": [
    {
     "data": {
      "text/html": [
       "<div>\n",
       "<style scoped>\n",
       "    .dataframe tbody tr th:only-of-type {\n",
       "        vertical-align: middle;\n",
       "    }\n",
       "\n",
       "    .dataframe tbody tr th {\n",
       "        vertical-align: top;\n",
       "    }\n",
       "\n",
       "    .dataframe thead th {\n",
       "        text-align: right;\n",
       "    }\n",
       "</style>\n",
       "<table border=\"1\" class=\"dataframe\">\n",
       "  <thead>\n",
       "    <tr style=\"text-align: right;\">\n",
       "      <th></th>\n",
       "      <th>Department</th>\n",
       "      <th>nbArtworks</th>\n",
       "    </tr>\n",
       "  </thead>\n",
       "  <tbody>\n",
       "    <tr>\n",
       "      <th>0</th>\n",
       "      <td>Architecture &amp; Design</td>\n",
       "      <td>635</td>\n",
       "    </tr>\n",
       "    <tr>\n",
       "      <th>1</th>\n",
       "      <td>Drawings</td>\n",
       "      <td>1</td>\n",
       "    </tr>\n",
       "    <tr>\n",
       "      <th>2</th>\n",
       "      <td>Fluxus Collection</td>\n",
       "      <td>1</td>\n",
       "    </tr>\n",
       "    <tr>\n",
       "      <th>3</th>\n",
       "      <td>Media and Performance Art</td>\n",
       "      <td>1</td>\n",
       "    </tr>\n",
       "    <tr>\n",
       "      <th>4</th>\n",
       "      <td>Painting &amp; Sculpture</td>\n",
       "      <td>5</td>\n",
       "    </tr>\n",
       "    <tr>\n",
       "      <th>5</th>\n",
       "      <td>Prints &amp; Illustrated Books</td>\n",
       "      <td>34</td>\n",
       "    </tr>\n",
       "  </tbody>\n",
       "</table>\n",
       "</div>"
      ],
      "text/plain": [
       "                   Department  nbArtworks\n",
       "0       Architecture & Design         635\n",
       "1                    Drawings           1\n",
       "2           Fluxus Collection           1\n",
       "3   Media and Performance Art           1\n",
       "4        Painting & Sculpture           5\n",
       "5  Prints & Illustrated Books          34"
      ]
     },
     "execution_count": 20,
     "metadata": {},
     "output_type": "execute_result"
    }
   ],
   "source": [
    "pd.read_sql(\"\"\" SELECT Department, COUNT(Title) AS nbArtworks \n",
    "                FROM artworks \n",
    "                WHERE `Length (cm)` NOT NULL\n",
    "                AND `Length (cm)` <> 0\n",
    "                GROUP BY Department\n",
    "            \"\"\"\n",
    "            , connector)"
   ]
  },
  {
   "cell_type": "markdown",
   "metadata": {},
   "source": [
    "Most of them are 3D artworks and for the others, this loss is negligible. Let's drop this column.\n",
    "Well, thats a good news, because there was 4 cartesian dimensions and in was quite confunsing.\n",
    "Still, we need to replace all `Null` values by `0` to begin to compute the area metric. Let's use `ifnull` from sqlite"
   ]
  },
  {
   "cell_type": "code",
   "execution_count": 21,
   "metadata": {},
   "outputs": [],
   "source": [
    "dimensions = pd.read_sql(\"\"\" SELECT IFNULL(`Diameter (cm)`, 0) AS Diameter,\n",
    "                                    IFNULL(`Circumference (cm)`, 0) AS Circumference, \n",
    "                                    IFNULL(`Height (cm)`, 0) as Height, \n",
    "                                    IFNULL(`Width (cm)`, 0) AS Width, \n",
    "                                    IFNULL(`Depth (cm)`, 0) AS Depth,\n",
    "                                    Name As Artist\n",
    "                             FROM artworks \n",
    "                             WHERE Artist IS NOT NULL\n",
    "                             AND Artist NOT LIKE '%Unknown%';\n",
    "                         \"\"\"\n",
    "                         , connector) "
   ]
  },
  {
   "cell_type": "code",
   "execution_count": 22,
   "metadata": {},
   "outputs": [],
   "source": [
    "artistAndArea = {\"Artist\" : [], \"Area\" : []}"
   ]
  },
  {
   "cell_type": "code",
   "execution_count": 23,
   "metadata": {},
   "outputs": [],
   "source": [
    "def areafromDiameter(x) :\n",
    "    return (np.pi/4)*(x**2)\n",
    "def areafromCircumference(x) : \n",
    "    return (x**2)/(4*np.pi)\n",
    "def areafromDimensions(x,y,z) : \n",
    "    if ( x*y*z != 0 ) :\n",
    "        return 0 # 3D artwork\n",
    "    else :\n",
    "        xy = x*y\n",
    "        yz = y*z\n",
    "        xz = x*z\n",
    "        if ( xy != 0 or yz != 0 or xz != 0 ) : \n",
    "            return (xy if xy != 0 else (yz if yz != 0 else xz)) # 2D artworks\n",
    "        else : \n",
    "            return 0"
   ]
  },
  {
   "cell_type": "code",
   "execution_count": 24,
   "metadata": {},
   "outputs": [],
   "source": [
    "indexList = dimensions.index\n",
    "for index in indexList : \n",
    "    diameter = dimensions['Diameter'][index]\n",
    "    if ( diameter != 0 ) :\n",
    "        artistAndArea['Area'].append(areafromDiameter(diameter))\n",
    "    else : \n",
    "        circumference = dimensions['Circumference'][index] != 0 \n",
    "        if (circumference != 0) : \n",
    "            artistAndArea['Area'].append(areafromCircumference(circumference))\n",
    "        else : \n",
    "            artistAndArea['Area'].append(areafromDimensions(dimensions['Height'][index], \n",
    "                                                          dimensions['Width'][index], \n",
    "                                                          dimensions['Depth'][index]))\n",
    "    artistAndArea['Artist'].append(dimensions['Artist'][index])"
   ]
  },
  {
   "cell_type": "code",
   "execution_count": 25,
   "metadata": {},
   "outputs": [],
   "source": [
    "artistAndArea_df = pd.DataFrame(artistAndArea)"
   ]
  },
  {
   "cell_type": "code",
   "execution_count": 26,
   "metadata": {},
   "outputs": [],
   "source": [
    "artistAndArea_df['Area'].replace(to_replace=0, value=np.NaN, inplace=True)\n",
    "artistAndArea_df.dropna(subset=['Area'], inplace=True)"
   ]
  },
  {
   "cell_type": "code",
   "execution_count": 27,
   "metadata": {},
   "outputs": [],
   "source": [
    "artistAndArea_df.to_csv(\"files/artists_and_area.csv\")"
   ]
  },
  {
   "cell_type": "code",
   "execution_count": 28,
   "metadata": {},
   "outputs": [],
   "source": [
    "sortedArea = artistAndArea_df.groupby('Artist').agg(['sum'])['Area'].sort_values(by=['sum'], ascending=False)"
   ]
  },
  {
   "cell_type": "code",
   "execution_count": 29,
   "metadata": {},
   "outputs": [],
   "source": [
    "sortedRoundedInGoodDimensionArea = (sortedArea/10000).apply(lambda x : round(x,2)) # cm² to m² conversion"
   ]
  },
  {
   "cell_type": "code",
   "execution_count": 30,
   "metadata": {},
   "outputs": [
    {
     "data": {
      "image/png": "[encoded data removed]",
      "text/plain": [
       "<Figure size 936x432 with 1 Axes>"
      ]
     },
     "metadata": {},
     "output_type": "display_data"
    }
   ],
   "source": [
    "sns.set(style=\"white\", context=\"talk\") # general theme\n",
    "\n",
    "f, ax = plt.subplots(1, 1, figsize=(13, 6), sharex=True)\n",
    "x = [ label.replace(' ', '\\n') for label in sortedRoundedInGoodDimensionArea.head(10).index ] # label wrapping\n",
    "y = sortedRoundedInGoodDimensionArea.head(10)['sum']\n",
    "sns.barplot(x=x, y=y, palette=\"rocket\") # data attribution and colors\n",
    "\n",
    "ax.axhline(0, color=\"k\", clip_on=False) \n",
    "sns.despine(bottom=True)\n",
    "\n",
    "ax.set_ylabel(\"Total Area (m²)\")\n",
    "ax.set_xlabel(\"Artists\")\n",
    "\n",
    "plt.title(\"Top 10 artists who has created the most 2D artwork by total surface area\")\n",
    "plt.tight_layout()"
   ]
  },
  {
   "cell_type": "code",
   "execution_count": 31,
   "metadata": {},
   "outputs": [
    {
     "data": {
      "text/html": [
       "<div>\n",
       "<style scoped>\n",
       "    .dataframe tbody tr th:only-of-type {\n",
       "        vertical-align: middle;\n",
       "    }\n",
       "\n",
       "    .dataframe tbody tr th {\n",
       "        vertical-align: top;\n",
       "    }\n",
       "\n",
       "    .dataframe thead th {\n",
       "        text-align: right;\n",
       "    }\n",
       "</style>\n",
       "<table border=\"1\" class=\"dataframe\">\n",
       "  <thead>\n",
       "    <tr style=\"text-align: right;\">\n",
       "      <th></th>\n",
       "      <th>sum</th>\n",
       "    </tr>\n",
       "    <tr>\n",
       "      <th>Artist</th>\n",
       "      <th></th>\n",
       "    </tr>\n",
       "  </thead>\n",
       "  <tbody>\n",
       "    <tr>\n",
       "      <th>Ludwig Mies van der Rohe</th>\n",
       "      <td>735.05</td>\n",
       "    </tr>\n",
       "  </tbody>\n",
       "</table>\n",
       "</div>"
      ],
      "text/plain": [
       "                             sum\n",
       "Artist                          \n",
       "Ludwig Mies van der Rohe  735.05"
      ]
     },
     "execution_count": 31,
     "metadata": {},
     "output_type": "execute_result"
    }
   ],
   "source": [
    "sortedRoundedInGoodDimensionArea.head(1)"
   ]
  },
  {
   "cell_type": "markdown",
   "metadata": {},
   "source": [
    "#### <div style=\"text-align:center;\"><em>Ludwig Mies van der Rohe</em> is clearly the one who produced the most artwork with a total of `735.05 m²` of 2D art.</div>"
   ]
  },
  {
   "cell_type": "markdown",
   "metadata": {},
   "source": [
    "## Optionnal (Python, R or SQL) : Did any artists have artwork acquired during their lifetime?"
   ]
  },
  {
   "cell_type": "code",
   "execution_count": 32,
   "metadata": {},
   "outputs": [
    {
     "data": {
      "text/html": [
       "<div>\n",
       "<style scoped>\n",
       "    .dataframe tbody tr th:only-of-type {\n",
       "        vertical-align: middle;\n",
       "    }\n",
       "\n",
       "    .dataframe tbody tr th {\n",
       "        vertical-align: top;\n",
       "    }\n",
       "\n",
       "    .dataframe thead th {\n",
       "        text-align: right;\n",
       "    }\n",
       "</style>\n",
       "<table border=\"1\" class=\"dataframe\">\n",
       "  <thead>\n",
       "    <tr style=\"text-align: right;\">\n",
       "      <th></th>\n",
       "      <th>Artist</th>\n",
       "      <th>Birth</th>\n",
       "      <th>Death</th>\n",
       "      <th>Acquisition</th>\n",
       "    </tr>\n",
       "  </thead>\n",
       "  <tbody>\n",
       "    <tr>\n",
       "      <th>0</th>\n",
       "      <td>Otto Wagner</td>\n",
       "      <td>1841</td>\n",
       "      <td>1918.0</td>\n",
       "      <td>1996-04-09</td>\n",
       "    </tr>\n",
       "    <tr>\n",
       "      <th>1</th>\n",
       "      <td>Christian de Portzamparc</td>\n",
       "      <td>1944</td>\n",
       "      <td>NaN</td>\n",
       "      <td>1995-01-17</td>\n",
       "    </tr>\n",
       "    <tr>\n",
       "      <th>2</th>\n",
       "      <td>Emil Hoppe</td>\n",
       "      <td>1876</td>\n",
       "      <td>1957.0</td>\n",
       "      <td>1997-01-15</td>\n",
       "    </tr>\n",
       "    <tr>\n",
       "      <th>3</th>\n",
       "      <td>Bernard Tschumi</td>\n",
       "      <td>1944</td>\n",
       "      <td>NaN</td>\n",
       "      <td>1995-01-17</td>\n",
       "    </tr>\n",
       "    <tr>\n",
       "      <th>4</th>\n",
       "      <td>Emil Hoppe</td>\n",
       "      <td>1876</td>\n",
       "      <td>1957.0</td>\n",
       "      <td>1997-01-15</td>\n",
       "    </tr>\n",
       "  </tbody>\n",
       "</table>\n",
       "</div>"
      ],
      "text/plain": [
       "                     Artist  Birth   Death Acquisition\n",
       "0               Otto Wagner   1841  1918.0  1996-04-09\n",
       "1  Christian de Portzamparc   1944     NaN  1995-01-17\n",
       "2                Emil Hoppe   1876  1957.0  1997-01-15\n",
       "3           Bernard Tschumi   1944     NaN  1995-01-17\n",
       "4                Emil Hoppe   1876  1957.0  1997-01-15"
      ]
     },
     "execution_count": 32,
     "metadata": {},
     "output_type": "execute_result"
    }
   ],
   "source": [
    "join_table = pd.read_sql(\"\"\" SELECT artists.Name AS Artist, artists.`Birth Year` AS Birth, artists.`Death Year` AS Death, \n",
    "                             artworks.`Acquisition Date` AS Acquisition\n",
    "                             FROM artists \n",
    "                             JOIN artworks\n",
    "                             ON artists.`Artist ID` = artworks.`Artist ID`\n",
    "                             WHERE Artist NOT LIKE '%Unknown%'\n",
    "                             AND Acquisition NOT NULL \n",
    "                             AND Birth NOT NULL;\n",
    "                         \"\"\"\n",
    "                         , connector)\n",
    "join_table.head()"
   ]
  },
  {
   "cell_type": "markdown",
   "metadata": {},
   "source": [
    "We should do some data transformation and as type standardization if we want to be able to exploit the result "
   ]
  },
  {
   "cell_type": "code",
   "execution_count": 33,
   "metadata": {},
   "outputs": [],
   "source": [
    "# data transformation\n",
    "join_table['Acquisition'].replace(to_replace='^.*(\\d{4}).*$', value=r\"\\1\", regex=True, inplace=True)\n",
    "join_table['Acquisition'] = join_table['Acquisition'].astype(int).astype('Int32')\n",
    "join_table[['Death', 'Birth']] = join_table[['Death', 'Birth']].astype('Int32')"
   ]
  },
  {
   "cell_type": "code",
   "execution_count": 34,
   "metadata": {},
   "outputs": [
    {
     "name": "stdout",
     "output_type": "stream",
     "text": [
      "<class 'pandas.core.frame.DataFrame'>\n",
      "RangeIndex: 110240 entries, 0 to 110239\n",
      "Data columns (total 4 columns):\n",
      "Artist         110240 non-null object\n",
      "Birth          110240 non-null Int32\n",
      "Death          72608 non-null Int32\n",
      "Acquisition    110240 non-null Int32\n",
      "dtypes: Int32(3), object(1)\n",
      "memory usage: 2.4+ MB\n"
     ]
    }
   ],
   "source": [
    "join_table.info()"
   ]
  },
  {
   "cell_type": "code",
   "execution_count": 35,
   "metadata": {},
   "outputs": [],
   "source": [
    "dead = join_table[join_table['Death'].apply(lambda x : not np.isnan(x))]\n",
    "alive = join_table[join_table['Death'].apply(lambda x : np.isnan(x))]"
   ]
  },
  {
   "cell_type": "code",
   "execution_count": 36,
   "metadata": {},
   "outputs": [],
   "source": [
    "dead = dead[dead['Birth'] <= dead['Acquisition']]\n",
    "dead = dead[dead['Acquisition'] <= dead['Death']]\n",
    "alive = alive[alive['Birth'] <= alive['Acquisition']]"
   ]
  },
  {
   "cell_type": "markdown",
   "metadata": {},
   "source": [
    "We could have not checked if `'Birth' <= 'Acquisition'` because it looks obvious but for the sake of data consistency."
   ]
  },
  {
   "cell_type": "code",
   "execution_count": 37,
   "metadata": {},
   "outputs": [],
   "source": [
    "deadGroupByAcquisition = dead.groupby('Artist').agg(['count'])['Acquisition']"
   ]
  },
  {
   "cell_type": "code",
   "execution_count": 38,
   "metadata": {},
   "outputs": [],
   "source": [
    "aliveGroupByAcquisition = alive.groupby('Artist').agg(['count'])['Acquisition']"
   ]
  },
  {
   "cell_type": "code",
   "execution_count": 39,
   "metadata": {},
   "outputs": [
    {
     "data": {
      "text/plain": [
       "2593"
      ]
     },
     "execution_count": 39,
     "metadata": {},
     "output_type": "execute_result"
    }
   ],
   "source": [
    "deadGroupByAcquisition.shape[0] + aliveGroupByAcquisition.shape[1]"
   ]
  },
  {
   "cell_type": "markdown",
   "metadata": {},
   "source": [
    "#### <div style=\"text-align:center;\">Yes, `2593` artists had artwork(s) acquired during their lifetime</div>"
   ]
  },
  {
   "cell_type": "code",
   "execution_count": 40,
   "metadata": {},
   "outputs": [
    {
     "data": {
      "image/png": "[encoded data removed]",
      "text/plain": [
       "<Figure size 720x432 with 1 Axes>"
      ]
     },
     "metadata": {},
     "output_type": "display_data"
    }
   ],
   "source": [
    "sns.set(style=\"white\", context=\"talk\") # general theme\n",
    "\n",
    "f, ax = plt.subplots(1, 1, figsize=(10, 6), sharex=True)\n",
    "sns.distplot( alive['Acquisition'], color=\"blue\", label=\"Still Alive\" )\n",
    "sns.distplot( dead['Acquisition'], color=\"red\", label=\"Alredy Dead\" )\n",
    "\n",
    "ax.set_xlabel(\"Acquistion Year\")\n",
    "ax.axhline(0, color=\"k\", clip_on=False) \n",
    "sns.despine(bottom=True)\n",
    "\n",
    "plt.title(\"Aquisition years of artworks during the life time of their artist\")\n",
    "plt.legend()\n",
    "plt.tight_layout()"
   ]
  },
  {
   "cell_type": "code",
   "execution_count": 41,
   "metadata": {},
   "outputs": [],
   "source": [
    "alive.to_csv(\"files/aquisition_during_life_alive.csv\")"
   ]
  },
  {
   "cell_type": "code",
   "execution_count": 42,
   "metadata": {},
   "outputs": [],
   "source": [
    "dead.to_csv(\"files/aquisition_during_life_dead.csv\")"
   ]
  },
  {
   "cell_type": "markdown",
   "metadata": {},
   "source": [
    "## Optionnal : Please review the quality of the data, and present any issues"
   ]
  },
  {
   "cell_type": "markdown",
   "metadata": {},
   "source": [
    "Let's begin by fetching all the data."
   ]
  },
  {
   "cell_type": "code",
   "execution_count": 43,
   "metadata": {},
   "outputs": [],
   "source": [
    "artists = pd.read_sql(\"\"\"SELECT * FROM artists;\"\"\", connector)\n",
    "artworks = pd.read_sql(\"\"\"SELECT * FROM artworks; \"\"\", connector)"
   ]
  },
  {
   "cell_type": "code",
   "execution_count": 44,
   "metadata": {},
   "outputs": [
    {
     "name": "stdout",
     "output_type": "stream",
     "text": [
      "<class 'pandas.core.frame.DataFrame'>\n",
      "RangeIndex: 15091 entries, 0 to 15090\n",
      "Data columns (total 6 columns):\n",
      "Artist ID      15091 non-null int64\n",
      "Name           15091 non-null object\n",
      "Nationality    12603 non-null object\n",
      "Gender         12019 non-null object\n",
      "Birth Year     11237 non-null float64\n",
      "Death Year     4579 non-null float64\n",
      "dtypes: float64(2), int64(1), object(3)\n",
      "memory usage: 707.5+ KB\n"
     ]
    }
   ],
   "source": [
    "artists.info()"
   ]
  },
  {
   "cell_type": "code",
   "execution_count": 45,
   "metadata": {
    "scrolled": false
   },
   "outputs": [
    {
     "name": "stdout",
     "output_type": "stream",
     "text": [
      "<class 'pandas.core.frame.DataFrame'>\n",
      "RangeIndex: 130262 entries, 0 to 130261\n",
      "Data columns (total 21 columns):\n",
      "Artwork ID            130262 non-null int64\n",
      "Title                 130210 non-null object\n",
      "Artist ID             128802 non-null object\n",
      "Name                  128802 non-null object\n",
      "Date                  127954 non-null object\n",
      "Medium                118343 non-null object\n",
      "Dimensions            118799 non-null object\n",
      "Acquisition Date      124799 non-null object\n",
      "Credit                127192 non-null object\n",
      "Catalogue             130262 non-null object\n",
      "Department            130262 non-null object\n",
      "Classification        130262 non-null object\n",
      "Object Number         130262 non-null object\n",
      "Diameter (cm)         1399 non-null float64\n",
      "Circumference (cm)    10 non-null float64\n",
      "Height (cm)           111893 non-null float64\n",
      "Length (cm)           736 non-null float64\n",
      "Width (cm)            111003 non-null float64\n",
      "Depth (cm)            11443 non-null float64\n",
      "Weight (kg)           298 non-null float64\n",
      "Duration (s)          3084 non-null float64\n",
      "dtypes: float64(8), int64(1), object(12)\n",
      "memory usage: 20.9+ MB\n"
     ]
    }
   ],
   "source": [
    "artworks.info()"
   ]
  },
  {
   "cell_type": "markdown",
   "metadata": {},
   "source": [
    "Fisrt we can notice a <em>lack of types consistency</em> between those two tables   \n",
    "Ex: Dates are not in the same type too. `Acquisition Date` and `Date` are strings and `Birth Year` is a float, just as `Death Year`.As we've seen earlier, there is also a format difference between those 4 columns, worse still, inside the `Acquisition Date` and th `Date` column.  \n",
    "Let's fix this."
   ]
  },
  {
   "cell_type": "code",
   "execution_count": 46,
   "metadata": {},
   "outputs": [],
   "source": [
    "# yyyy year formating\n",
    "artworks['Acquisition Date'].replace(to_replace='^.*(\\d{4}).*$', value=r\"\\1\", regex=True, inplace=True)\n",
    "artworks['Acquisition Date'].replace(to_replace='^(?!.*(\\d{4})).*$', value=np.NaN, regex=True, inplace=True)\n",
    "\n",
    "artworks['Date'].replace(to_replace='^.*(\\d{4}).*$', value=r\"\\1\", regex=True, inplace=True)\n",
    "artworks['Date'].replace(to_replace='^(?!.*(\\d{4})).*$', value=np.NaN, regex=True, inplace=True)\n",
    "\n",
    "artists['Birth Year'].replace(to_replace='^.*(\\d{4}).*$', value=r\"\\1\", regex=True, inplace=True)\n",
    "artists['Death Year'].replace(to_replace='^.*(\\d{4}).*$', value=r\"\\1\", regex=True, inplace=True)\n",
    "\n",
    "# type alignement\n",
    "artworks[['Acquisition Date', 'Date']] = artworks[['Acquisition Date', 'Date']].astype('float64').apply(lambda x : round(x,0))\n",
    "artists[['Death Year', 'Birth Year']] = artists[['Death Year', 'Birth Year']].astype('float64').apply(lambda x : round(x,0))"
   ]
  },
  {
   "cell_type": "markdown",
   "metadata": {},
   "source": [
    "Then there is way too dimanesional informations  \n",
    "We have 4 names for cartesian dimensions which is really confusing.\n",
    "We have 2 informations on circular objects when we only need one, the <em>radius</em> would have been a beter indicator (standard metric).  \n",
    "On top of that, the columns' type is `float64` and 4 out of 6 are <em>almost empty</em>, that is <em>space consumming</em>.  \n",
    "There is also the `artworks.Dimensions` which is quite useless here."
   ]
  },
  {
   "cell_type": "markdown",
   "metadata": {},
   "source": [
    "Giving instead, the area information is a solution to avoid loosing too much data and reduce the size of the data set.  \n",
    "(Area will be in cm²)"
   ]
  },
  {
   "cell_type": "code",
   "execution_count": 47,
   "metadata": {},
   "outputs": [],
   "source": [
    "artworks.drop(columns=['Dimensions','Diameter (cm)','Circumference (cm)','Height (cm)',\n",
    "                       'Length (cm)', 'Width (cm)','Depth (cm)'], inplace=True)"
   ]
  },
  {
   "cell_type": "code",
   "execution_count": 48,
   "metadata": {},
   "outputs": [],
   "source": [
    "artworks.insert(loc=0, column='Area', value=pd.DataFrame(artistAndArea)['Area'].replace(to_replace=0, value=np.NaN))"
   ]
  },
  {
   "cell_type": "markdown",
   "metadata": {},
   "source": [
    "`artworks.weight` is space consumming for nothing because empty, let's drop it too"
   ]
  },
  {
   "cell_type": "code",
   "execution_count": 49,
   "metadata": {},
   "outputs": [],
   "source": [
    "artworks.drop(columns=['Weight (kg)'], inplace=True)"
   ]
  },
  {
   "cell_type": "markdown",
   "metadata": {},
   "source": [
    "`artworks.duration` is a bit different, it this is characteristic of video formats. Let's deep in."
   ]
  },
  {
   "cell_type": "code",
   "execution_count": 50,
   "metadata": {},
   "outputs": [
    {
     "data": {
      "text/html": [
       "<div>\n",
       "<style scoped>\n",
       "    .dataframe tbody tr th:only-of-type {\n",
       "        vertical-align: middle;\n",
       "    }\n",
       "\n",
       "    .dataframe tbody tr th {\n",
       "        vertical-align: top;\n",
       "    }\n",
       "\n",
       "    .dataframe thead th {\n",
       "        text-align: right;\n",
       "    }\n",
       "</style>\n",
       "<table border=\"1\" class=\"dataframe\">\n",
       "  <thead>\n",
       "    <tr style=\"text-align: right;\">\n",
       "      <th></th>\n",
       "      <th>Classification</th>\n",
       "      <th>count(*)</th>\n",
       "    </tr>\n",
       "  </thead>\n",
       "  <tbody>\n",
       "    <tr>\n",
       "      <th>0</th>\n",
       "      <td>Architecture</td>\n",
       "      <td>25</td>\n",
       "    </tr>\n",
       "    <tr>\n",
       "      <th>1</th>\n",
       "      <td>Audio</td>\n",
       "      <td>2</td>\n",
       "    </tr>\n",
       "    <tr>\n",
       "      <th>2</th>\n",
       "      <td>Design</td>\n",
       "      <td>10</td>\n",
       "    </tr>\n",
       "    <tr>\n",
       "      <th>3</th>\n",
       "      <td>Film</td>\n",
       "      <td>1224</td>\n",
       "    </tr>\n",
       "    <tr>\n",
       "      <th>4</th>\n",
       "      <td>Installation</td>\n",
       "      <td>121</td>\n",
       "    </tr>\n",
       "    <tr>\n",
       "      <th>5</th>\n",
       "      <td>Media</td>\n",
       "      <td>1</td>\n",
       "    </tr>\n",
       "    <tr>\n",
       "      <th>6</th>\n",
       "      <td>Multiple</td>\n",
       "      <td>1</td>\n",
       "    </tr>\n",
       "    <tr>\n",
       "      <th>7</th>\n",
       "      <td>Performance</td>\n",
       "      <td>1</td>\n",
       "    </tr>\n",
       "    <tr>\n",
       "      <th>8</th>\n",
       "      <td>Photograph</td>\n",
       "      <td>1</td>\n",
       "    </tr>\n",
       "    <tr>\n",
       "      <th>9</th>\n",
       "      <td>Photography Research/Reference</td>\n",
       "      <td>2</td>\n",
       "    </tr>\n",
       "    <tr>\n",
       "      <th>10</th>\n",
       "      <td>Video</td>\n",
       "      <td>1480</td>\n",
       "    </tr>\n",
       "  </tbody>\n",
       "</table>\n",
       "</div>"
      ],
      "text/plain": [
       "                    Classification  count(*)\n",
       "0                     Architecture        25\n",
       "1                            Audio         2\n",
       "2                           Design        10\n",
       "3                             Film      1224\n",
       "4                     Installation       121\n",
       "5                            Media         1\n",
       "6                         Multiple         1\n",
       "7                      Performance         1\n",
       "8                       Photograph         1\n",
       "9   Photography Research/Reference         2\n",
       "10                           Video      1480"
      ]
     },
     "execution_count": 50,
     "metadata": {},
     "output_type": "execute_result"
    }
   ],
   "source": [
    "pd.read_sql(\"\"\" SELECT Classification, count(*) \n",
    "                FROM artworks \n",
    "                WHERE `Duration (s)` NOT NULL\n",
    "                AND `Duration (s)` <> 0\n",
    "                GROUP BY Classification;\"\"\"\n",
    "            , connector) "
   ]
  },
  {
   "cell_type": "code",
   "execution_count": 51,
   "metadata": {},
   "outputs": [
    {
     "data": {
      "text/html": [
       "<div>\n",
       "<style scoped>\n",
       "    .dataframe tbody tr th:only-of-type {\n",
       "        vertical-align: middle;\n",
       "    }\n",
       "\n",
       "    .dataframe tbody tr th {\n",
       "        vertical-align: top;\n",
       "    }\n",
       "\n",
       "    .dataframe thead th {\n",
       "        text-align: right;\n",
       "    }\n",
       "</style>\n",
       "<table border=\"1\" class=\"dataframe\">\n",
       "  <thead>\n",
       "    <tr style=\"text-align: right;\">\n",
       "      <th></th>\n",
       "      <th>Classification</th>\n",
       "      <th>count(*)</th>\n",
       "    </tr>\n",
       "  </thead>\n",
       "  <tbody>\n",
       "    <tr>\n",
       "      <th>0</th>\n",
       "      <td>Film</td>\n",
       "      <td>2292</td>\n",
       "    </tr>\n",
       "    <tr>\n",
       "      <th>1</th>\n",
       "      <td>Video</td>\n",
       "      <td>2363</td>\n",
       "    </tr>\n",
       "  </tbody>\n",
       "</table>\n",
       "</div>"
      ],
      "text/plain": [
       "  Classification  count(*)\n",
       "0           Film      2292\n",
       "1          Video      2363"
      ]
     },
     "execution_count": 51,
     "metadata": {},
     "output_type": "execute_result"
    }
   ],
   "source": [
    "pd.read_sql(\"\"\" SELECT Classification, count(*)\n",
    "                FROM artworks\n",
    "                WHERE Classification LIKE 'Film'\n",
    "                OR Classification LIKE 'Video'\n",
    "                GROUP BY Classification;\n",
    "            \"\"\"\n",
    "            , connector) "
   ]
  },
  {
   "cell_type": "markdown",
   "metadata": {},
   "source": [
    "As we can see non-null `artworks.duration` values represent barely a half of Film/Video data. It is not worth to keep it"
   ]
  },
  {
   "cell_type": "code",
   "execution_count": 52,
   "metadata": {},
   "outputs": [],
   "source": [
    "artworks.drop(columns=['Duration (s)'], inplace=True)"
   ]
  },
  {
   "cell_type": "markdown",
   "metadata": {},
   "source": [
    "`artworks.'Object Number'` is quite misterious but don't seem to add more informations. It looks like it contains the acquisition Date. This data does not seem to be important, thougth. "
   ]
  },
  {
   "cell_type": "code",
   "execution_count": 53,
   "metadata": {},
   "outputs": [
    {
     "data": {
      "text/html": [
       "<div>\n",
       "<style scoped>\n",
       "    .dataframe tbody tr th:only-of-type {\n",
       "        vertical-align: middle;\n",
       "    }\n",
       "\n",
       "    .dataframe tbody tr th {\n",
       "        vertical-align: top;\n",
       "    }\n",
       "\n",
       "    .dataframe thead th {\n",
       "        text-align: right;\n",
       "    }\n",
       "</style>\n",
       "<table border=\"1\" class=\"dataframe\">\n",
       "  <thead>\n",
       "    <tr style=\"text-align: right;\">\n",
       "      <th></th>\n",
       "      <th>Object Number</th>\n",
       "      <th>Acquisition Date</th>\n",
       "    </tr>\n",
       "  </thead>\n",
       "  <tbody>\n",
       "    <tr>\n",
       "      <th>0</th>\n",
       "      <td>885.1996</td>\n",
       "      <td>1996-04-09</td>\n",
       "    </tr>\n",
       "    <tr>\n",
       "      <th>1</th>\n",
       "      <td>1.1995</td>\n",
       "      <td>1995-01-17</td>\n",
       "    </tr>\n",
       "    <tr>\n",
       "      <th>2</th>\n",
       "      <td>1.1997</td>\n",
       "      <td>1997-01-15</td>\n",
       "    </tr>\n",
       "    <tr>\n",
       "      <th>3</th>\n",
       "      <td>2.1995</td>\n",
       "      <td>1995-01-17</td>\n",
       "    </tr>\n",
       "    <tr>\n",
       "      <th>4</th>\n",
       "      <td>2.1997</td>\n",
       "      <td>1997-01-15</td>\n",
       "    </tr>\n",
       "    <tr>\n",
       "      <th>5</th>\n",
       "      <td>3.1995.1</td>\n",
       "      <td>1995-01-17</td>\n",
       "    </tr>\n",
       "    <tr>\n",
       "      <th>6</th>\n",
       "      <td>3.1995.1-24</td>\n",
       "      <td>1995-01-17</td>\n",
       "    </tr>\n",
       "    <tr>\n",
       "      <th>7</th>\n",
       "      <td>3.1995.10</td>\n",
       "      <td>1995-01-17</td>\n",
       "    </tr>\n",
       "    <tr>\n",
       "      <th>8</th>\n",
       "      <td>3.1995.11</td>\n",
       "      <td>1995-01-17</td>\n",
       "    </tr>\n",
       "    <tr>\n",
       "      <th>9</th>\n",
       "      <td>3.1995.12</td>\n",
       "      <td>1995-01-17</td>\n",
       "    </tr>\n",
       "  </tbody>\n",
       "</table>\n",
       "</div>"
      ],
      "text/plain": [
       "  Object Number Acquisition Date\n",
       "0      885.1996       1996-04-09\n",
       "1        1.1995       1995-01-17\n",
       "2        1.1997       1997-01-15\n",
       "3        2.1995       1995-01-17\n",
       "4        2.1997       1997-01-15\n",
       "5      3.1995.1       1995-01-17\n",
       "6   3.1995.1-24       1995-01-17\n",
       "7     3.1995.10       1995-01-17\n",
       "8     3.1995.11       1995-01-17\n",
       "9     3.1995.12       1995-01-17"
      ]
     },
     "execution_count": 53,
     "metadata": {},
     "output_type": "execute_result"
    }
   ],
   "source": [
    "pd.read_sql(\"\"\"SELECT `Object Number`, `Acquisition Date` FROM artworks LIMIT 10; \"\"\"\n",
    "            , connector)"
   ]
  },
  {
   "cell_type": "code",
   "execution_count": 54,
   "metadata": {},
   "outputs": [],
   "source": [
    "artworks.drop(columns=['Object Number'], inplace=True)"
   ]
  },
  {
   "cell_type": "markdown",
   "metadata": {},
   "source": [
    "In order to study the relationship between the data, we have to merge artists and artwork"
   ]
  },
  {
   "cell_type": "markdown",
   "metadata": {},
   "source": [
    "We face troubles to convert `artworks.'Artist ID'` into interger because some of them are in reality a <em>list of 'Artist ID'</em>  \n",
    "It seems to we the same for `artworks.Name`"
   ]
  },
  {
   "cell_type": "code",
   "execution_count": 55,
   "metadata": {},
   "outputs": [
    {
     "data": {
      "text/html": [
       "<div>\n",
       "<style scoped>\n",
       "    .dataframe tbody tr th:only-of-type {\n",
       "        vertical-align: middle;\n",
       "    }\n",
       "\n",
       "    .dataframe tbody tr th {\n",
       "        vertical-align: top;\n",
       "    }\n",
       "\n",
       "    .dataframe thead th {\n",
       "        text-align: right;\n",
       "    }\n",
       "</style>\n",
       "<table border=\"1\" class=\"dataframe\">\n",
       "  <thead>\n",
       "    <tr style=\"text-align: right;\">\n",
       "      <th></th>\n",
       "      <th>Artist ID</th>\n",
       "      <th>Name</th>\n",
       "    </tr>\n",
       "  </thead>\n",
       "  <tbody>\n",
       "    <tr>\n",
       "      <th>0</th>\n",
       "      <td>6969, 8134</td>\n",
       "      <td>Peter Eisenman, Robert Cole</td>\n",
       "    </tr>\n",
       "    <tr>\n",
       "      <th>1</th>\n",
       "      <td>6956, 6957</td>\n",
       "      <td>Rem Koolhaas, Madelon Vriesendorp</td>\n",
       "    </tr>\n",
       "    <tr>\n",
       "      <th>2</th>\n",
       "      <td>7661, 8131, 8180</td>\n",
       "      <td>Aldo Rossi, Gianni Braghieri, M. Bosshard</td>\n",
       "    </tr>\n",
       "    <tr>\n",
       "      <th>3</th>\n",
       "      <td>27, 24452</td>\n",
       "      <td>Erik Gunnar Asplund, Sigurd Lewerentz</td>\n",
       "    </tr>\n",
       "    <tr>\n",
       "      <th>4</th>\n",
       "      <td>8102, 6703, 4312</td>\n",
       "      <td>Paul Nelson, Frantz Jourdain, Oscar Nitzchke</td>\n",
       "    </tr>\n",
       "  </tbody>\n",
       "</table>\n",
       "</div>"
      ],
      "text/plain": [
       "          Artist ID                                          Name\n",
       "0        6969, 8134                   Peter Eisenman, Robert Cole\n",
       "1        6956, 6957             Rem Koolhaas, Madelon Vriesendorp\n",
       "2  7661, 8131, 8180     Aldo Rossi, Gianni Braghieri, M. Bosshard\n",
       "3         27, 24452         Erik Gunnar Asplund, Sigurd Lewerentz\n",
       "4  8102, 6703, 4312  Paul Nelson, Frantz Jourdain, Oscar Nitzchke"
      ]
     },
     "execution_count": 55,
     "metadata": {},
     "output_type": "execute_result"
    }
   ],
   "source": [
    "pd.read_sql(\"\"\" SELECT `Artist ID`, Name\n",
    "                FROM artworks\n",
    "                WHERE `Artist ID` LIKE '%,%' LIMIT 5\"\"\"\n",
    "            , connector)"
   ]
  },
  {
   "cell_type": "code",
   "execution_count": 56,
   "metadata": {},
   "outputs": [
    {
     "data": {
      "text/html": [
       "<div>\n",
       "<style scoped>\n",
       "    .dataframe tbody tr th:only-of-type {\n",
       "        vertical-align: middle;\n",
       "    }\n",
       "\n",
       "    .dataframe tbody tr th {\n",
       "        vertical-align: top;\n",
       "    }\n",
       "\n",
       "    .dataframe thead th {\n",
       "        text-align: right;\n",
       "    }\n",
       "</style>\n",
       "<table border=\"1\" class=\"dataframe\">\n",
       "  <thead>\n",
       "    <tr style=\"text-align: right;\">\n",
       "      <th></th>\n",
       "      <th>Proportion</th>\n",
       "    </tr>\n",
       "  </thead>\n",
       "  <tbody>\n",
       "    <tr>\n",
       "      <th>0</th>\n",
       "      <td>4.935438</td>\n",
       "    </tr>\n",
       "  </tbody>\n",
       "</table>\n",
       "</div>"
      ],
      "text/plain": [
       "   Proportion\n",
       "0    4.935438"
      ]
     },
     "execution_count": 56,
     "metadata": {},
     "output_type": "execute_result"
    }
   ],
   "source": [
    "(pd.read_sql(\"\"\" SELECT COUNT(`Artwork ID`) AS Proportion\n",
    "                FROM artworks\n",
    "                WHERE `Artist ID` LIKE '%,%'\n",
    "            \"\"\"\n",
    "            , connector)/artworks.shape[0]).apply(lambda x : x*100)"
   ]
  },
  {
   "cell_type": "markdown",
   "metadata": {},
   "source": [
    "It representent <em>5%</em> of the total amount of artworks.  \n",
    "I don't think it's not a big deal to attribute these artworks to <em>anyone</em> from the point of view of the `Artist ID` and leave the artist Names groups in the `Name` column. This will make it easy to identify which artwork is a collaboration.  \n",
    "In the same way, it does not change the previous results because those results concern only individual artists."
   ]
  },
  {
   "cell_type": "code",
   "execution_count": 57,
   "metadata": {},
   "outputs": [],
   "source": [
    "artworks['Artist ID'].replace(to_replace='^.*,.*$', value=np.NaN, regex=True, inplace=True)"
   ]
  },
  {
   "cell_type": "markdown",
   "metadata": {},
   "source": [
    "Notice that putting `np.NaN` in place of `id1, id2, ...` would automatically flip over the type of data to `float64`  \n",
    "We would turn `artists.'Artist ID'` into this type before merging  \n",
    "We will change the type to stay sur the join will be well"
   ]
  },
  {
   "cell_type": "code",
   "execution_count": 58,
   "metadata": {},
   "outputs": [],
   "source": [
    "artworks['Artist ID'] = artworks['Artist ID'].astype('float64').apply(lambda x : round(x, 0))\n",
    "artists['Artist ID'] = artists['Artist ID'].astype('float64').apply(lambda x : round(x, 0))"
   ]
  },
  {
   "cell_type": "markdown",
   "metadata": {},
   "source": [
    "We will remove `aartists.Names` to avoid conflicts during the merge process."
   ]
  },
  {
   "cell_type": "code",
   "execution_count": 59,
   "metadata": {},
   "outputs": [],
   "source": [
    "artists.drop(columns=['Name'], inplace=True)"
   ]
  },
  {
   "cell_type": "code",
   "execution_count": 60,
   "metadata": {},
   "outputs": [],
   "source": [
    "artworks['Name'].replace(to_replace='^.*Unknown.*$', value=np.NaN, regex=True, inplace=True)"
   ]
  },
  {
   "cell_type": "code",
   "execution_count": 61,
   "metadata": {},
   "outputs": [],
   "source": [
    "rightjoin = artists.merge(artworks, how='right', on='Artist ID', sort='False')"
   ]
  },
  {
   "cell_type": "code",
   "execution_count": 62,
   "metadata": {},
   "outputs": [
    {
     "data": {
      "text/html": [
       "<div>\n",
       "<style scoped>\n",
       "    .dataframe tbody tr th:only-of-type {\n",
       "        vertical-align: middle;\n",
       "    }\n",
       "\n",
       "    .dataframe tbody tr th {\n",
       "        vertical-align: top;\n",
       "    }\n",
       "\n",
       "    .dataframe thead th {\n",
       "        text-align: right;\n",
       "    }\n",
       "</style>\n",
       "<table border=\"1\" class=\"dataframe\">\n",
       "  <thead>\n",
       "    <tr style=\"text-align: right;\">\n",
       "      <th></th>\n",
       "      <th>Artist ID</th>\n",
       "      <th>Nationality</th>\n",
       "      <th>Gender</th>\n",
       "      <th>Birth Year</th>\n",
       "      <th>Death Year</th>\n",
       "      <th>Area</th>\n",
       "      <th>Artwork ID</th>\n",
       "      <th>Title</th>\n",
       "      <th>Name</th>\n",
       "      <th>Date</th>\n",
       "      <th>Medium</th>\n",
       "      <th>Acquisition Date</th>\n",
       "      <th>Credit</th>\n",
       "      <th>Catalogue</th>\n",
       "      <th>Department</th>\n",
       "      <th>Classification</th>\n",
       "    </tr>\n",
       "  </thead>\n",
       "  <tbody>\n",
       "    <tr>\n",
       "      <th>0</th>\n",
       "      <td>1.0</td>\n",
       "      <td>American</td>\n",
       "      <td>Male</td>\n",
       "      <td>1930.0</td>\n",
       "      <td>1992.0</td>\n",
       "      <td>235.95</td>\n",
       "      <td>33599</td>\n",
       "      <td>Study for Head Bath</td>\n",
       "      <td>Robert Arneson</td>\n",
       "      <td>1977.0</td>\n",
       "      <td>Conté crayon and pencil on paper</td>\n",
       "      <td>1981.0</td>\n",
       "      <td>Gift of the Friends of Contemporary Drawing</td>\n",
       "      <td>Y</td>\n",
       "      <td>Drawings</td>\n",
       "      <td>Drawing</td>\n",
       "    </tr>\n",
       "  </tbody>\n",
       "</table>\n",
       "</div>"
      ],
      "text/plain": [
       "   Artist ID Nationality Gender  Birth Year  Death Year    Area  Artwork ID  \\\n",
       "0        1.0    American   Male      1930.0      1992.0  235.95       33599   \n",
       "\n",
       "                 Title            Name    Date  \\\n",
       "0  Study for Head Bath  Robert Arneson  1977.0   \n",
       "\n",
       "                             Medium  Acquisition Date  \\\n",
       "0  Conté crayon and pencil on paper            1981.0   \n",
       "\n",
       "                                        Credit Catalogue Department  \\\n",
       "0  Gift of the Friends of Contemporary Drawing         Y   Drawings   \n",
       "\n",
       "  Classification  \n",
       "0        Drawing  "
      ]
     },
     "execution_count": 62,
     "metadata": {},
     "output_type": "execute_result"
    }
   ],
   "source": [
    "rightjoin.head(1)"
   ]
  },
  {
   "cell_type": "markdown",
   "metadata": {},
   "source": [
    "There is still an ambiguous columns set in this dataset : `Medium`, `Department`, `Classification`.  \n",
    "We suppose there is a correlation between them but we want to know the force of this correlation and if we can remove one of them.  \n",
    "To know that we will apply the `chi-2 test`"
   ]
  },
  {
   "cell_type": "code",
   "execution_count": 63,
   "metadata": {},
   "outputs": [],
   "source": [
    "def chi_squared(p_value,x,chi2,dof):\n",
    "    N=sum(sum(x))\n",
    "    print(\"P-Value is: {}\".format(p_value))\n",
    "    if(p_value>0.05):\n",
    "        print(\" P-value > 0.05: cannot reject indepedance hypothesis\")\n",
    "        return 0\n",
    "        #return \"no-link\"\n",
    "    else: print(\" P-value < 0.05: there is a depedance link\")\n",
    "    if(x.shape[0]==x.shape[1]):\n",
    "        print(\" Shape of the cross table: square. Let's use Chuprov's test.\")\n",
    "        res=sqrt(chi2/(N*sqrt(dof)))\n",
    "    else:\n",
    "        print(\" Shape of the cross table: rectangle. Let's use Cramer's test.\")\n",
    "        res=sqrt(chi2/(N*min(x.shape[0]-1,x.shape[1]-1)))\n",
    "        print(\" Result of the test: {:.2f}\".format(res))\n",
    "        return res\n",
    "    if(res>0.5):\n",
    "        print(\" There is a strong depedance link\")\n",
    "        return res\n",
    "        #return \"strong\"\n",
    "    else:\n",
    "        print(\" There is a weak depedance link\")\n",
    "        return res\n",
    "        #return \"weak\""
   ]
  },
  {
   "cell_type": "code",
   "execution_count": 64,
   "metadata": {},
   "outputs": [],
   "source": [
    "def auto_chi2(df):\n",
    "    values=df.values\n",
    "    matrix=[[0]*values.shape[1] for i in range(values.shape[1])]\n",
    "    cols=[col for col in df]\n",
    "    for i in range(values.shape[1]):\n",
    "        for j in range(i,values.shape[1]):\n",
    "            if(cols[i] != cols[j]):\n",
    "                print(\"\")\n",
    "                print(\"----------------------------------------------------\")\n",
    "                print(\"Chi squared test between vars: {} and {} :\".format(cols[i],cols[j]))\n",
    "                print(\"----------------------------------------------------\")\n",
    "                crosstab=pd.crosstab(df[cols[i]],df[cols[j]])\n",
    "                chi2, p, dof, ex = chi2_contingency(crosstab, correction=False)\n",
    "                \n",
    "                res=chi_squared(p,crosstab.values,chi2,dof)\n",
    "                matrix[i][j]=res\n",
    "                matrix[j][i]=res # avoid to compute twice the same test\n",
    "            else: matrix[i][j]=1\n",
    "    df_result=pd.DataFrame(matrix,index=df.columns)\n",
    "    df_result.columns=df.columns\n",
    "    return df_result"
   ]
  },
  {
   "cell_type": "code",
   "execution_count": 65,
   "metadata": {},
   "outputs": [
    {
     "name": "stdout",
     "output_type": "stream",
     "text": [
      "\n",
      "----------------------------------------------------\n",
      "Chi squared test between vars: Medium and Department :\n",
      "----------------------------------------------------\n",
      "P-Value is: 0.0\n",
      " P-value < 0.05: there is a depedance link\n",
      " Shape of the cross table: rectangle. Let's use Cramer's test.\n",
      " Result of the test: 0.88\n",
      "\n",
      "----------------------------------------------------\n",
      "Chi squared test between vars: Medium and Classification :\n",
      "----------------------------------------------------\n",
      "P-Value is: 0.0\n",
      " P-value < 0.05: there is a depedance link\n",
      " Shape of the cross table: rectangle. Let's use Cramer's test.\n",
      " Result of the test: 0.90\n",
      "\n",
      "----------------------------------------------------\n",
      "Chi squared test between vars: Department and Classification :\n",
      "----------------------------------------------------\n",
      "P-Value is: 0.0\n",
      " P-value < 0.05: there is a depedance link\n",
      " Shape of the cross table: rectangle. Let's use Cramer's test.\n",
      " Result of the test: 0.86\n"
     ]
    },
    {
     "data": {
      "image/png": "[encoded data removed]",
      "text/plain": [
       "<Figure size 432x288 with 2 Axes>"
      ]
     },
     "metadata": {},
     "output_type": "display_data"
    }
   ],
   "source": [
    "a = auto_chi2(rightjoin[['Medium', 'Department', 'Classification']])\n",
    "plt.title(\"Result of chi squared test\")\n",
    "sns.heatmap(a,annot=True,linewidth=1)\n",
    "plt.show()"
   ]
  },
  {
   "cell_type": "markdown",
   "metadata": {},
   "source": [
    "The 3 variable are highly correlated, we can then remove `Medium` and `Departement` "
   ]
  },
  {
   "cell_type": "code",
   "execution_count": 66,
   "metadata": {},
   "outputs": [],
   "source": [
    "rightjoin.drop(columns=['Medium', 'Department'], inplace=True)"
   ]
  },
  {
   "cell_type": "code",
   "execution_count": 67,
   "metadata": {},
   "outputs": [
    {
     "data": {
      "text/html": [
       "<div>\n",
       "<style scoped>\n",
       "    .dataframe tbody tr th:only-of-type {\n",
       "        vertical-align: middle;\n",
       "    }\n",
       "\n",
       "    .dataframe tbody tr th {\n",
       "        vertical-align: top;\n",
       "    }\n",
       "\n",
       "    .dataframe thead th {\n",
       "        text-align: right;\n",
       "    }\n",
       "</style>\n",
       "<table border=\"1\" class=\"dataframe\">\n",
       "  <thead>\n",
       "    <tr style=\"text-align: right;\">\n",
       "      <th></th>\n",
       "      <th>Artist ID</th>\n",
       "      <th>Nationality</th>\n",
       "      <th>Gender</th>\n",
       "      <th>Birth Year</th>\n",
       "      <th>Death Year</th>\n",
       "      <th>Area</th>\n",
       "      <th>Artwork ID</th>\n",
       "      <th>Title</th>\n",
       "      <th>Name</th>\n",
       "      <th>Date</th>\n",
       "      <th>Acquisition Date</th>\n",
       "      <th>Credit</th>\n",
       "      <th>Catalogue</th>\n",
       "      <th>Classification</th>\n",
       "    </tr>\n",
       "  </thead>\n",
       "  <tbody>\n",
       "    <tr>\n",
       "      <th>0</th>\n",
       "      <td>1.0</td>\n",
       "      <td>American</td>\n",
       "      <td>Male</td>\n",
       "      <td>1930.0</td>\n",
       "      <td>1992.0</td>\n",
       "      <td>235.95</td>\n",
       "      <td>33599</td>\n",
       "      <td>Study for Head Bath</td>\n",
       "      <td>Robert Arneson</td>\n",
       "      <td>1977.0</td>\n",
       "      <td>1981.0</td>\n",
       "      <td>Gift of the Friends of Contemporary Drawing</td>\n",
       "      <td>Y</td>\n",
       "      <td>Drawing</td>\n",
       "    </tr>\n",
       "  </tbody>\n",
       "</table>\n",
       "</div>"
      ],
      "text/plain": [
       "   Artist ID Nationality Gender  Birth Year  Death Year    Area  Artwork ID  \\\n",
       "0        1.0    American   Male      1930.0      1992.0  235.95       33599   \n",
       "\n",
       "                 Title            Name    Date  Acquisition Date  \\\n",
       "0  Study for Head Bath  Robert Arneson  1977.0            1981.0   \n",
       "\n",
       "                                        Credit Catalogue Classification  \n",
       "0  Gift of the Friends of Contemporary Drawing         Y        Drawing  "
      ]
     },
     "execution_count": 67,
     "metadata": {},
     "output_type": "execute_result"
    }
   ],
   "source": [
    "rightjoin.head(1)"
   ]
  },
  {
   "cell_type": "code",
   "execution_count": 68,
   "metadata": {},
   "outputs": [],
   "source": [
    "#rightjoin.to_csv(\"files/artists_and_artworks.csv\", index=False)"
   ]
  },
  {
   "cell_type": "markdown",
   "metadata": {},
   "source": [
    "The data review and preparation is over, let's do some clustering now."
   ]
  },
  {
   "cell_type": "markdown",
   "metadata": {},
   "source": [
    "## Optionnal (Python, R or SQL) : Please group the artworks into as many clusters as you feel is appropriate, using attributes from both the artist and artworks tables, and assign each artwork to this new cluster."
   ]
  },
  {
   "cell_type": "code",
   "execution_count": 69,
   "metadata": {},
   "outputs": [],
   "source": [
    "#artists_and_artworks = pd.read_csv(\"files/artists_and_artworks.csv\")"
   ]
  },
  {
   "cell_type": "code",
   "execution_count": 131,
   "metadata": {},
   "outputs": [],
   "source": [
    "study_df = rightjoin.drop(columns=['Artwork ID', 'Title', 'Death Year'])\n",
    "study_df.dropna(subset=['Artist ID'], inplace=True)\n",
    "study_df.drop(columns=['Artist ID'], inplace=True)\n",
    "study_df.dropna(subset=['Name'], inplace=True)"
   ]
  },
  {
   "cell_type": "code",
   "execution_count": 71,
   "metadata": {},
   "outputs": [],
   "source": [
    "#study_df['Nationality'] = study_df['Nationality'].astype('category').cat.codes\n",
    "#study_df['Gender'] = study_df['Gender'].astype('category').cat.codes\n",
    "#study_df['Credit'] = study_df['Credit'].astype('category').cat.codes\n",
    "#study_df['Classification'] = study_df['Classification'].astype('category').cat.codes\n",
    "#study_df['Catalogue'] = study_df['Catalogue'].astype('category').cat.codes"
   ]
  },
  {
   "cell_type": "code",
   "execution_count": 132,
   "metadata": {},
   "outputs": [],
   "source": [
    "study_df.dropna(subset=['Birth Year', 'Acquisition Date', 'Date'], inplace=True)\n",
    "study_df['Area'].fillna(0, inplace=True)"
   ]
  },
  {
   "cell_type": "code",
   "execution_count": 122,
   "metadata": {},
   "outputs": [
    {
     "name": "stdout",
     "output_type": "stream",
     "text": [
      "<class 'pandas.core.frame.DataFrame'>\n",
      "Int64Index: 107941 entries, 0 to 122370\n",
      "Data columns (total 10 columns):\n",
      "Nationality         107602 non-null object\n",
      "Gender              106880 non-null object\n",
      "Birth Year          107941 non-null float64\n",
      "Area                107941 non-null float64\n",
      "Name                107941 non-null object\n",
      "Date                107941 non-null float64\n",
      "Acquisition Date    107941 non-null float64\n",
      "Credit              105646 non-null object\n",
      "Catalogue           107941 non-null object\n",
      "Classification      107941 non-null object\n",
      "dtypes: float64(4), object(6)\n",
      "memory usage: 9.1+ MB\n"
     ]
    }
   ],
   "source": [
    "study_df.info()"
   ]
  },
  {
   "cell_type": "code",
   "execution_count": 123,
   "metadata": {},
   "outputs": [],
   "source": [
    "study_df.to_csv(\"files/artists_and_artworks.csv\", index=False)"
   ]
  },
  {
   "cell_type": "code",
   "execution_count": 133,
   "metadata": {},
   "outputs": [],
   "source": [
    "names = study_df['Name']\n",
    "study_df.drop(columns=['Name'], inplace=True)\n",
    "study_df.fillna('Unknown', inplace=True)"
   ]
  },
  {
   "cell_type": "code",
   "execution_count": 134,
   "metadata": {},
   "outputs": [],
   "source": [
    "study_df[['Birth Year','Area',\n",
    "          'Date','Acquisition Date']] = study_df[['Birth Year','Area','Date','Acquisition Date']].astype(float)"
   ]
  },
  {
   "cell_type": "code",
   "execution_count": null,
   "metadata": {
    "scrolled": true
   },
   "outputs": [
    {
     "name": "stdout",
     "output_type": "stream",
     "text": [
      "Init: initializing centroids\n",
      "Init: initializing clusters\n",
      "Init: initializing centroids\n",
      "Init: initializing clusters\n",
      "Init: initializing centroids\n",
      "Init: initializing clusters\n",
      "Init: initializing centroids\n",
      "Init: initializing clusters\n",
      "Init: initializing centroids\n",
      "Init: initializing clusters\n",
      "Init: initializing centroids\n",
      "Init: initializing clusters\n",
      "Init: initializing centroids\n",
      "Init: initializing clusters\n",
      "Init: initializing centroids\n",
      "Init: initializing clusters\n",
      "Init: initializing centroids\n",
      "Init: initializing clusters\n",
      "Init: initializing centroids\n",
      "Init: initializing clusters\n",
      "Init: initializing centroids\n",
      "Init: initializing clusters\n",
      "Init: initializing centroids\n",
      "Init: initializing clusters\n",
      "Init: initializing centroids\n",
      "Init: initializing clusters\n",
      "Init: initializing centroids\n",
      "Init: initializing clusters\n",
      "Init: initializing centroids\n",
      "Init: initializing clusters\n",
      "Init: initializing centroids\n",
      "Init: initializing clusters\n",
      "Init: initializing centroids\n",
      "Init: initializing clusters\n",
      "Init: initializing centroids\n",
      "Init: initializing clusters\n",
      "Init: initializing centroids\n",
      "Init: initializing clusters\n",
      "Init: initializing centroids\n",
      "Init: initializing clusters\n",
      "Init: initializing centroids\n",
      "Init: initializing clusters\n",
      "Init: initializing centroids\n",
      "Init: initializing clusters\n",
      "Init: initializing centroids\n",
      "Init: initializing clusters\n",
      "Init: initializing centroids\n",
      "Init: initializing clusters\n",
      "Init: initializing centroids\n",
      "Init: initializing clusters\n",
      "Init: initializing centroids\n",
      "Init: initializing clusters\n",
      "Init: initializing centroids\n",
      "Init: initializing clusters\n",
      "Init: initializing centroids\n",
      "Init: initializing clusters\n",
      "Init: initializing centroids\n",
      "Init: initializing clusters\n",
      "Starting iterations...\n",
      "Run: 1, iteration: 1/100, moves: 15448, ncost: 4960502564851.163\n",
      "Run: 1, iteration: 2/100, moves: 13035, ncost: 4264373581494.2383\n",
      "Run: 1, iteration: 3/100, moves: 10114, ncost: 3744674487382.972\n",
      "Run: 1, iteration: 4/100, moves: 7121, ncost: 3131677653010.774\n",
      "Run: 1, iteration: 5/100, moves: 4699, ncost: 2726723378992.3867\n",
      "Run: 1, iteration: 6/100, moves: 3040, ncost: 2481259194779.5854\n",
      "Run: 1, iteration: 7/100, moves: 2426, ncost: 2240721900782.177\n",
      "Run: 1, iteration: 8/100, moves: 2045, ncost: 2110724643589.3372\n",
      "Run: 1, iteration: 9/100, moves: 1018, ncost: 2090612302726.996\n",
      "Run: 1, iteration: 10/100, moves: 621, ncost: 2082771065314.5808\n",
      "Run: 1, iteration: 11/100, moves: 678, ncost: 2071535900270.2107\n",
      "Run: 1, iteration: 12/100, moves: 651, ncost: 2061552707926.4485\n",
      "Run: 1, iteration: 13/100, moves: 856, ncost: 2044740238737.4778\n",
      "Run: 1, iteration: 14/100, moves: 565, ncost: 2032201234240.714\n",
      "Run: 1, iteration: 15/100, moves: 290, ncost: 2026779731427.656\n",
      "Run: 1, iteration: 16/100, moves: 192, ncost: 2019717363168.2874\n",
      "Run: 1, iteration: 17/100, moves: 141, ncost: 1979054990407.3787\n",
      "Run: 1, iteration: 18/100, moves: 298, ncost: 1859185149064.4473\n",
      "Run: 1, iteration: 19/100, moves: 423, ncost: 1746251981048.3757\n",
      "Run: 1, iteration: 20/100, moves: 313, ncost: 1568860626152.2886\n",
      "Run: 1, iteration: 21/100, moves: 257, ncost: 1512510693713.3367\n",
      "Run: 1, iteration: 22/100, moves: 146, ncost: 1498470646882.186\n",
      "Run: 1, iteration: 23/100, moves: 111, ncost: 1490511680258.554\n",
      "Run: 1, iteration: 24/100, moves: 77, ncost: 1487793225360.0032\n",
      "Run: 1, iteration: 25/100, moves: 43, ncost: 1487271745944.5085\n",
      "Run: 1, iteration: 26/100, moves: 11, ncost: 1487229816712.5662\n",
      "Run: 1, iteration: 27/100, moves: 2, ncost: 1487228559404.923\n",
      "Run: 1, iteration: 28/100, moves: 0, ncost: 1487228559404.923\n",
      "Init: initializing centroids\n",
      "Init: initializing clusters\n",
      "Init: initializing centroids\n",
      "Init: initializing clusters\n",
      "Init: initializing centroids\n",
      "Init: initializing clusters\n",
      "Starting iterations...\n",
      "Run: 2, iteration: 1/100, moves: 8339, ncost: 4187664985227.2363\n",
      "Run: 2, iteration: 2/100, moves: 3505, ncost: 3458866737232.227\n",
      "Run: 2, iteration: 3/100, moves: 1579, ncost: 2845247716538.836\n",
      "Run: 2, iteration: 4/100, moves: 1768, ncost: 2591668796095.964\n",
      "Run: 2, iteration: 5/100, moves: 2009, ncost: 2313003641085.3306\n",
      "Run: 2, iteration: 6/100, moves: 1908, ncost: 2145794534226.8074\n",
      "Run: 2, iteration: 7/100, moves: 1010, ncost: 2095252851435.955\n",
      "Run: 2, iteration: 8/100, moves: 564, ncost: 2086094512054.7676\n",
      "Run: 2, iteration: 9/100, moves: 604, ncost: 2075516612749.2498\n",
      "Run: 2, iteration: 10/100, moves: 681, ncost: 2065460556922.1223\n",
      "Run: 2, iteration: 11/100, moves: 851, ncost: 2050590118703.142\n",
      "Run: 2, iteration: 12/100, moves: 723, ncost: 2034261475992.945\n",
      "Run: 2, iteration: 13/100, moves: 353, ncost: 2027437271388.9983\n",
      "Run: 2, iteration: 14/100, moves: 234, ncost: 2020060066869.5186\n",
      "Run: 2, iteration: 15/100, moves: 154, ncost: 1979194415550.223\n",
      "Run: 2, iteration: 16/100, moves: 281, ncost: 1860099906169.7378\n",
      "Run: 2, iteration: 17/100, moves: 424, ncost: 1748258649254.5562\n",
      "Run: 2, iteration: 18/100, moves: 337, ncost: 1568988959991.3933\n",
      "Run: 2, iteration: 19/100, moves: 255, ncost: 1512735401682.8062\n",
      "Run: 2, iteration: 20/100, moves: 147, ncost: 1499084836251.3303\n",
      "Run: 2, iteration: 21/100, moves: 111, ncost: 1490625505072.7627\n",
      "Run: 2, iteration: 22/100, moves: 80, ncost: 1487809111035.508\n",
      "Run: 2, iteration: 23/100, moves: 44, ncost: 1487271745944.5088\n",
      "Run: 2, iteration: 24/100, moves: 11, ncost: 1487229816712.5642\n",
      "Run: 2, iteration: 25/100, moves: 2, ncost: 1487228559404.924\n",
      "Run: 2, iteration: 26/100, moves: 0, ncost: 1487228559404.924\n",
      "Init: initializing centroids\n",
      "Init: initializing clusters\n",
      "Init: initializing centroids\n",
      "Init: initializing clusters\n",
      "Init: initializing centroids\n",
      "Init: initializing clusters\n",
      "Init: initializing centroids\n",
      "Init: initializing clusters\n",
      "Starting iterations...\n",
      "Run: 3, iteration: 1/100, moves: 23509, ncost: 4590664681028.543\n",
      "Run: 3, iteration: 2/100, moves: 8172, ncost: 4005060006911.094\n",
      "Run: 3, iteration: 3/100, moves: 6544, ncost: 3392830850347.0605\n",
      "Run: 3, iteration: 4/100, moves: 4753, ncost: 2861363682911.7524\n",
      "Run: 3, iteration: 5/100, moves: 3404, ncost: 2591289652094.3853\n",
      "Run: 3, iteration: 6/100, moves: 2377, ncost: 2321653626608.6846\n",
      "Run: 3, iteration: 7/100, moves: 2175, ncost: 2151851229634.9905\n",
      "Run: 3, iteration: 8/100, moves: 1290, ncost: 2098483377249.5442\n",
      "Run: 3, iteration: 9/100, moves: 673, ncost: 2086892094242.3662\n",
      "Run: 3, iteration: 10/100, moves: 576, ncost: 2077317392859.5447\n",
      "Run: 3, iteration: 11/100, moves: 744, ncost: 2066557160628.4734\n",
      "Run: 3, iteration: 12/100, moves: 805, ncost: 2052875694990.4053\n",
      "Run: 3, iteration: 13/100, moves: 729, ncost: 2037358479434.5857\n",
      "Run: 3, iteration: 14/100, moves: 386, ncost: 2029430836951.0205\n",
      "Run: 3, iteration: 15/100, moves: 268, ncost: 2024438303835.2612\n",
      "Run: 3, iteration: 16/100, moves: 144, ncost: 2017765805618.4197\n",
      "Run: 3, iteration: 17/100, moves: 122, ncost: 1975518931246.8074\n"
     ]
    }
   ],
   "source": [
    "kproto = KPrototypes(n_clusters=4, init='Cao', max_iter=25, nb_init=4, verbose=2)\n",
    "clusters = kproto.fit_predict(study_df, categorical=[0,1,6,7,8])"
   ]
  },
  {
   "cell_type": "code",
   "execution_count": null,
   "metadata": {},
   "outputs": [],
   "source": [
    "clusters = [2, 3, 4, 5, 8, 9, 10]"
   ]
  },
  {
   "cell_type": "code",
   "execution_count": null,
   "metadata": {},
   "outputs": [],
   "source": [
    "for n_clusters in clusters : \n",
    "    clusterer = KMeans(n_clusters=n_clusters, random_state=10)\n",
    "    cluster_labels = clusterer.fit_predict(study_df_test)\n",
    "    silhouette_avg = silhouette_score(study_df_test, cluster_labels)\n",
    "    print(\"---------------------------------------------------------------------\")\n",
    "    print(\"number of clusters:\", n_clusters, \"Avg silhouette score:\", silhouette_avg)\n",
    "    print(\"---------------------------------------------------------------------\")"
   ]
  },
  {
   "cell_type": "code",
   "execution_count": null,
   "metadata": {},
   "outputs": [],
   "source": []
  }
 ],
 "metadata": {
  "kernelspec": {
   "display_name": "Python 3",
   "language": "python",
   "name": "python3"
  },
  "language_info": {
   "codemirror_mode": {
    "name": "ipython",
    "version": 3
   },
   "file_extension": ".py",
   "mimetype": "text/x-python",
   "name": "python",
   "nbconvert_exporter": "python",
   "pygments_lexer": "ipython3",
   "version": "3.7.3"
  }
 },
 "nbformat": 4,
 "nbformat_minor": 2
}
