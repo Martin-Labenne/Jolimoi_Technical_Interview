{
 "cells": [
  {
   "cell_type": "markdown",
   "metadata": {},
   "source": [
    "# <div style=\"text-align:center;\">Museum Of Modern Art, Data Exploration</div>"
   ]
  },
  {
   "cell_type": "markdown",
   "metadata": {},
   "source": [
    "### Package import"
   ]
  },
  {
   "cell_type": "code",
   "execution_count": 1,
   "metadata": {},
   "outputs": [],
   "source": [
    "# data storage and algebra\n",
    "import pandas as pd\n",
    "import numpy as np\n",
    "\n",
    "# data query\n",
    "import sqlite3 as sql\n",
    "\n",
    "# plot data\n",
    "import seaborn as sns\n",
    "import matplotlib.pyplot as plt\n",
    "\n",
    "# others\n",
    "from datetime import datetime"
   ]
  },
  {
   "cell_type": "markdown",
   "metadata": {},
   "source": [
    "### Establishing connection with the Database"
   ]
  },
  {
   "cell_type": "code",
   "execution_count": 2,
   "metadata": {},
   "outputs": [],
   "source": [
    "path = \"../data/\"\n",
    "db = path + \"artists.db\"\n",
    "connector = sql.connect(db)"
   ]
  },
  {
   "cell_type": "markdown",
   "metadata": {},
   "source": [
    "### First query"
   ]
  },
  {
   "cell_type": "code",
   "execution_count": 3,
   "metadata": {},
   "outputs": [
    {
     "data": {
      "text/html": [
       "<div>\n",
       "<style scoped>\n",
       "    .dataframe tbody tr th:only-of-type {\n",
       "        vertical-align: middle;\n",
       "    }\n",
       "\n",
       "    .dataframe tbody tr th {\n",
       "        vertical-align: top;\n",
       "    }\n",
       "\n",
       "    .dataframe thead th {\n",
       "        text-align: right;\n",
       "    }\n",
       "</style>\n",
       "<table border=\"1\" class=\"dataframe\">\n",
       "  <thead>\n",
       "    <tr style=\"text-align: right;\">\n",
       "      <th></th>\n",
       "      <th>rowNb</th>\n",
       "    </tr>\n",
       "  </thead>\n",
       "  <tbody>\n",
       "    <tr>\n",
       "      <th>0</th>\n",
       "      <td>15091</td>\n",
       "    </tr>\n",
       "  </tbody>\n",
       "</table>\n",
       "</div>"
      ],
      "text/plain": [
       "   rowNb\n",
       "0  15091"
      ]
     },
     "execution_count": 3,
     "metadata": {},
     "output_type": "execute_result"
    }
   ],
   "source": [
    "pd.read_sql(\"\"\"SELECT COUNT(*) AS rowNb FROM artists;\"\"\", connector)"
   ]
  },
  {
   "cell_type": "markdown",
   "metadata": {},
   "source": [
    "#### <div style=\"text-align:center;\">Now that we've established the connection, we are good to go !</div>"
   ]
  },
  {
   "cell_type": "markdown",
   "metadata": {},
   "source": [
    "## SQL : Which artist in this data set lived the longest?"
   ]
  },
  {
   "cell_type": "code",
   "execution_count": 4,
   "metadata": {},
   "outputs": [
    {
     "data": {
      "text/html": [
       "<div>\n",
       "<style scoped>\n",
       "    .dataframe tbody tr th:only-of-type {\n",
       "        vertical-align: middle;\n",
       "    }\n",
       "\n",
       "    .dataframe tbody tr th {\n",
       "        vertical-align: top;\n",
       "    }\n",
       "\n",
       "    .dataframe thead th {\n",
       "        text-align: right;\n",
       "    }\n",
       "</style>\n",
       "<table border=\"1\" class=\"dataframe\">\n",
       "  <thead>\n",
       "    <tr style=\"text-align: right;\">\n",
       "      <th></th>\n",
       "      <th>Name</th>\n",
       "      <th>Nationality</th>\n",
       "      <th>Gender</th>\n",
       "      <th>Birth Year</th>\n",
       "      <th>Death Year</th>\n",
       "      <th>Age</th>\n",
       "    </tr>\n",
       "  </thead>\n",
       "  <tbody>\n",
       "    <tr>\n",
       "      <th>0</th>\n",
       "      <td>Union Paper Bag Machine Company, Philadelphia, PA</td>\n",
       "      <td>None</td>\n",
       "      <td>None</td>\n",
       "      <td>1869</td>\n",
       "      <td>1999</td>\n",
       "      <td>130</td>\n",
       "    </tr>\n",
       "  </tbody>\n",
       "</table>\n",
       "</div>"
      ],
      "text/plain": [
       "                                                Name Nationality Gender  \\\n",
       "0  Union Paper Bag Machine Company, Philadelphia, PA        None   None   \n",
       "\n",
       "   Birth Year  Death Year  Age  \n",
       "0        1869        1999  130  "
      ]
     },
     "execution_count": 4,
     "metadata": {},
     "output_type": "execute_result"
    }
   ],
   "source": [
    "pd.read_sql(\"\"\"SELECT Name, Nationality, Gender, `Birth Year`, `Death Year`, (`Death Year` - `Birth Year`) AS Age \n",
    "               FROM artists \n",
    "               WHERE Age = (\n",
    "                 SELECT MAX(`Death Year` - `Birth Year`)\n",
    "                 FROM artists\n",
    "               );\"\"\"\n",
    "            , connector)"
   ]
  },
  {
   "cell_type": "markdown",
   "metadata": {},
   "source": [
    "Looks strange, an age equals to 130 years ? Hum the Name field contains 'Company', lets see if there is some other case like this ... "
   ]
  },
  {
   "cell_type": "code",
   "execution_count": 5,
   "metadata": {},
   "outputs": [
    {
     "data": {
      "text/html": [
       "<div>\n",
       "<style scoped>\n",
       "    .dataframe tbody tr th:only-of-type {\n",
       "        vertical-align: middle;\n",
       "    }\n",
       "\n",
       "    .dataframe tbody tr th {\n",
       "        vertical-align: top;\n",
       "    }\n",
       "\n",
       "    .dataframe thead th {\n",
       "        text-align: right;\n",
       "    }\n",
       "</style>\n",
       "<table border=\"1\" class=\"dataframe\">\n",
       "  <thead>\n",
       "    <tr style=\"text-align: right;\">\n",
       "      <th></th>\n",
       "      <th>Name</th>\n",
       "      <th>Nationality</th>\n",
       "      <th>Gender</th>\n",
       "      <th>Birth Year</th>\n",
       "      <th>Death Year</th>\n",
       "      <th>Age</th>\n",
       "    </tr>\n",
       "  </thead>\n",
       "  <tbody>\n",
       "    <tr>\n",
       "      <th>0</th>\n",
       "      <td>C.N. and Company</td>\n",
       "      <td>British</td>\n",
       "      <td>None</td>\n",
       "      <td>NaN</td>\n",
       "      <td>NaN</td>\n",
       "      <td>NaN</td>\n",
       "    </tr>\n",
       "    <tr>\n",
       "      <th>1</th>\n",
       "      <td>Robert Gair Company</td>\n",
       "      <td>American</td>\n",
       "      <td>None</td>\n",
       "      <td>NaN</td>\n",
       "      <td>NaN</td>\n",
       "      <td>NaN</td>\n",
       "    </tr>\n",
       "    <tr>\n",
       "      <th>2</th>\n",
       "      <td>Karhula-Iitala, company design</td>\n",
       "      <td>Finnish</td>\n",
       "      <td>None</td>\n",
       "      <td>NaN</td>\n",
       "      <td>NaN</td>\n",
       "      <td>NaN</td>\n",
       "    </tr>\n",
       "    <tr>\n",
       "      <th>3</th>\n",
       "      <td>Rosenthal Porzellan A.g., company design</td>\n",
       "      <td>German</td>\n",
       "      <td>None</td>\n",
       "      <td>1879.0</td>\n",
       "      <td>NaN</td>\n",
       "      <td>NaN</td>\n",
       "    </tr>\n",
       "    <tr>\n",
       "      <th>4</th>\n",
       "      <td>W.H.L. Skeen and Company</td>\n",
       "      <td>British</td>\n",
       "      <td>None</td>\n",
       "      <td>NaN</td>\n",
       "      <td>NaN</td>\n",
       "      <td>NaN</td>\n",
       "    </tr>\n",
       "  </tbody>\n",
       "</table>\n",
       "</div>"
      ],
      "text/plain": [
       "                                       Name Nationality Gender  Birth Year  \\\n",
       "0                          C.N. and Company     British   None         NaN   \n",
       "1                       Robert Gair Company    American   None         NaN   \n",
       "2            Karhula-Iitala, company design     Finnish   None         NaN   \n",
       "3  Rosenthal Porzellan A.g., company design      German   None      1879.0   \n",
       "4                  W.H.L. Skeen and Company     British   None         NaN   \n",
       "\n",
       "   Death Year  Age  \n",
       "0         NaN  NaN  \n",
       "1         NaN  NaN  \n",
       "2         NaN  NaN  \n",
       "3         NaN  NaN  \n",
       "4         NaN  NaN  "
      ]
     },
     "execution_count": 5,
     "metadata": {},
     "output_type": "execute_result"
    }
   ],
   "source": [
    "pd.read_sql(\"\"\"SELECT Name, Nationality, Gender, `Birth Year`, `Death Year`, (`Death Year` - `Birth Year`) AS Age \n",
    "               FROM artists \n",
    "               WHERE LOWER(Name) LIKE '%company%'\n",
    "               ORDER BY Age; \"\"\"\n",
    "            , connector).head() #pd.DataFrame.head() allows us to only print the 5 first lines in the dataframe"
   ]
  },
  {
   "cell_type": "markdown",
   "metadata": {},
   "source": [
    "Okay, other companies exists and seems to have undefined lifetime ... Let's just take a look to the number of them and then we should be able to answer the question."
   ]
  },
  {
   "cell_type": "code",
   "execution_count": 6,
   "metadata": {},
   "outputs": [
    {
     "data": {
      "text/html": [
       "<div>\n",
       "<style scoped>\n",
       "    .dataframe tbody tr th:only-of-type {\n",
       "        vertical-align: middle;\n",
       "    }\n",
       "\n",
       "    .dataframe tbody tr th {\n",
       "        vertical-align: top;\n",
       "    }\n",
       "\n",
       "    .dataframe thead th {\n",
       "        text-align: right;\n",
       "    }\n",
       "</style>\n",
       "<table border=\"1\" class=\"dataframe\">\n",
       "  <thead>\n",
       "    <tr style=\"text-align: right;\">\n",
       "      <th></th>\n",
       "      <th>CompaniesNb</th>\n",
       "    </tr>\n",
       "  </thead>\n",
       "  <tbody>\n",
       "    <tr>\n",
       "      <th>0</th>\n",
       "      <td>71</td>\n",
       "    </tr>\n",
       "  </tbody>\n",
       "</table>\n",
       "</div>"
      ],
      "text/plain": [
       "   CompaniesNb\n",
       "0           71"
      ]
     },
     "execution_count": 6,
     "metadata": {},
     "output_type": "execute_result"
    }
   ],
   "source": [
    "pd.read_sql(\"\"\"SELECT count(*) AS CompaniesNb \n",
    "               FROM artists \n",
    "               WHERE LOWER(Name) LIKE '%company%'; \"\"\"\n",
    "            , connector)"
   ]
  },
  {
   "cell_type": "code",
   "execution_count": 7,
   "metadata": {},
   "outputs": [
    {
     "data": {
      "text/html": [
       "<div>\n",
       "<style scoped>\n",
       "    .dataframe tbody tr th:only-of-type {\n",
       "        vertical-align: middle;\n",
       "    }\n",
       "\n",
       "    .dataframe tbody tr th {\n",
       "        vertical-align: top;\n",
       "    }\n",
       "\n",
       "    .dataframe thead th {\n",
       "        text-align: right;\n",
       "    }\n",
       "</style>\n",
       "<table border=\"1\" class=\"dataframe\">\n",
       "  <thead>\n",
       "    <tr style=\"text-align: right;\">\n",
       "      <th></th>\n",
       "      <th>NbOfCompaniesWithAge</th>\n",
       "    </tr>\n",
       "  </thead>\n",
       "  <tbody>\n",
       "    <tr>\n",
       "      <th>0</th>\n",
       "      <td>4</td>\n",
       "    </tr>\n",
       "  </tbody>\n",
       "</table>\n",
       "</div>"
      ],
      "text/plain": [
       "   NbOfCompaniesWithAge\n",
       "0                     4"
      ]
     },
     "execution_count": 7,
     "metadata": {},
     "output_type": "execute_result"
    }
   ],
   "source": [
    "pd.read_sql(\"\"\"SELECT count(*) AS NbOfCompaniesWithAge\n",
    "               FROM artists \n",
    "               WHERE LOWER(Name) LIKE '%company%'\n",
    "               AND (`Death Year` - `Birth Year`) NOT NULL; \"\"\"\n",
    "            , connector)"
   ]
  },
  {
   "cell_type": "markdown",
   "metadata": {},
   "source": [
    "Recap : Compagnies are present in this dataset and most of them (94%) doest not have a defined lifetime. "
   ]
  },
  {
   "cell_type": "code",
   "execution_count": 8,
   "metadata": {},
   "outputs": [
    {
     "data": {
      "text/html": [
       "<div>\n",
       "<style scoped>\n",
       "    .dataframe tbody tr th:only-of-type {\n",
       "        vertical-align: middle;\n",
       "    }\n",
       "\n",
       "    .dataframe tbody tr th {\n",
       "        vertical-align: top;\n",
       "    }\n",
       "\n",
       "    .dataframe thead th {\n",
       "        text-align: right;\n",
       "    }\n",
       "</style>\n",
       "<table border=\"1\" class=\"dataframe\">\n",
       "  <thead>\n",
       "    <tr style=\"text-align: right;\">\n",
       "      <th></th>\n",
       "      <th>Name</th>\n",
       "      <th>Nationality</th>\n",
       "      <th>Gender</th>\n",
       "      <th>Birth Year</th>\n",
       "      <th>Death Year</th>\n",
       "      <th>Age</th>\n",
       "    </tr>\n",
       "  </thead>\n",
       "  <tbody>\n",
       "    <tr>\n",
       "      <th>0</th>\n",
       "      <td>Vincent-HRD Company Ltd., Stevenage, Herts, En...</td>\n",
       "      <td>British</td>\n",
       "      <td>None</td>\n",
       "      <td>1928</td>\n",
       "      <td>1955</td>\n",
       "      <td>27</td>\n",
       "    </tr>\n",
       "    <tr>\n",
       "      <th>1</th>\n",
       "      <td>Rockwood and Company</td>\n",
       "      <td>American</td>\n",
       "      <td>None</td>\n",
       "      <td>1832</td>\n",
       "      <td>1911</td>\n",
       "      <td>79</td>\n",
       "    </tr>\n",
       "    <tr>\n",
       "      <th>2</th>\n",
       "      <td>Keystone View Company</td>\n",
       "      <td>American</td>\n",
       "      <td>None</td>\n",
       "      <td>1892</td>\n",
       "      <td>1972</td>\n",
       "      <td>80</td>\n",
       "    </tr>\n",
       "    <tr>\n",
       "      <th>3</th>\n",
       "      <td>Union Paper Bag Machine Company, Philadelphia, PA</td>\n",
       "      <td>None</td>\n",
       "      <td>None</td>\n",
       "      <td>1869</td>\n",
       "      <td>1999</td>\n",
       "      <td>130</td>\n",
       "    </tr>\n",
       "  </tbody>\n",
       "</table>\n",
       "</div>"
      ],
      "text/plain": [
       "                                                Name Nationality Gender  \\\n",
       "0  Vincent-HRD Company Ltd., Stevenage, Herts, En...     British   None   \n",
       "1                               Rockwood and Company    American   None   \n",
       "2                              Keystone View Company    American   None   \n",
       "3  Union Paper Bag Machine Company, Philadelphia, PA        None   None   \n",
       "\n",
       "   Birth Year  Death Year  Age  \n",
       "0        1928        1955   27  \n",
       "1        1832        1911   79  \n",
       "2        1892        1972   80  \n",
       "3        1869        1999  130  "
      ]
     },
     "execution_count": 8,
     "metadata": {},
     "output_type": "execute_result"
    }
   ],
   "source": [
    "pd.read_sql(\"\"\"SELECT Name, Nationality, Gender, `Birth Year`, `Death Year`, (`Death Year` - `Birth Year`) AS Age \n",
    "               FROM artists \n",
    "               WHERE LOWER(Name) LIKE '%company%'\n",
    "               AND Age NOT NULL\n",
    "               ORDER BY Age; \"\"\"\n",
    "            , connector)"
   ]
  },
  {
   "cell_type": "markdown",
   "metadata": {},
   "source": [
    "In addition, those wo have a defined age tend to bias the results (except for Vincent-HRD Company Ltd) and it is a tiny part of our dataset. <em>At this stage of exploration<em>, it seems to be adequate to aside them."
   ]
  },
  {
   "cell_type": "code",
   "execution_count": 9,
   "metadata": {},
   "outputs": [
    {
     "data": {
      "text/html": [
       "<div>\n",
       "<style scoped>\n",
       "    .dataframe tbody tr th:only-of-type {\n",
       "        vertical-align: middle;\n",
       "    }\n",
       "\n",
       "    .dataframe tbody tr th {\n",
       "        vertical-align: top;\n",
       "    }\n",
       "\n",
       "    .dataframe thead th {\n",
       "        text-align: right;\n",
       "    }\n",
       "</style>\n",
       "<table border=\"1\" class=\"dataframe\">\n",
       "  <thead>\n",
       "    <tr style=\"text-align: right;\">\n",
       "      <th></th>\n",
       "      <th>Name</th>\n",
       "      <th>Nationality</th>\n",
       "      <th>Gender</th>\n",
       "      <th>Birth Year</th>\n",
       "      <th>Death Year</th>\n",
       "      <th>Age</th>\n",
       "    </tr>\n",
       "  </thead>\n",
       "  <tbody>\n",
       "    <tr>\n",
       "      <th>0</th>\n",
       "      <td>Leni Matthaei</td>\n",
       "      <td>German</td>\n",
       "      <td>Female</td>\n",
       "      <td>1873</td>\n",
       "      <td>1981</td>\n",
       "      <td>108</td>\n",
       "    </tr>\n",
       "    <tr>\n",
       "      <th>1</th>\n",
       "      <td>B. Efimov</td>\n",
       "      <td>Russian</td>\n",
       "      <td>Male</td>\n",
       "      <td>1900</td>\n",
       "      <td>2008</td>\n",
       "      <td>108</td>\n",
       "    </tr>\n",
       "  </tbody>\n",
       "</table>\n",
       "</div>"
      ],
      "text/plain": [
       "            Name Nationality  Gender  Birth Year  Death Year  Age\n",
       "0  Leni Matthaei      German  Female        1873        1981  108\n",
       "1      B. Efimov     Russian    Male        1900        2008  108"
      ]
     },
     "execution_count": 9,
     "metadata": {},
     "output_type": "execute_result"
    }
   ],
   "source": [
    "pd.read_sql(\"\"\"SELECT Name, Nationality, Gender, `Birth Year`, `Death Year`, (`Death Year` - `Birth Year`) AS Age \n",
    "               FROM artists \n",
    "               WHERE Age = (\n",
    "                 SELECT MAX(`Death Year` - `Birth Year`)\n",
    "                 FROM artists\n",
    "                 WHERE LOWER(Name) NOT LIKE '%company%'\n",
    "               );\"\"\"\n",
    "            , connector)"
   ]
  },
  {
   "cell_type": "markdown",
   "metadata": {},
   "source": [
    "<div>According to Wikipedia,</div> \n",
    "<div><strong>Leni Matthaei</strong> : June 2, 1873 - January 24, 1981</div>\n",
    "<div><strong>Boris Efimov</strong> : September 28, 1900 - October 1, 2008</div>"
   ]
  },
  {
   "cell_type": "code",
   "execution_count": 10,
   "metadata": {},
   "outputs": [
    {
     "data": {
      "text/plain": [
       "'Boris Efimov lived the longest'"
      ]
     },
     "execution_count": 10,
     "metadata": {},
     "output_type": "execute_result"
    }
   ],
   "source": [
    "condition = ( datetime(1981, 1, 24) - datetime(1873, 6, 2) ) > ( datetime(2008, 10, 1) - datetime(1900, 9, 28) )\n",
    "\"Leni Matthaei lived the longest\" if condition else \"Boris Efimov lived the longest\""
   ]
  },
  {
   "cell_type": "markdown",
   "metadata": {},
   "source": [
    "#### <div style=\"text-align:center;\">Boris Efimov is the one who lived the longest among MoMa artists</div>"
   ]
  },
  {
   "cell_type": "markdown",
   "metadata": {},
   "source": [
    "## SQL : Who are the top 10 artists by the number of artworks?"
   ]
  },
  {
   "cell_type": "code",
   "execution_count": 11,
   "metadata": {},
   "outputs": [
    {
     "data": {
      "text/html": [
       "<div>\n",
       "<style scoped>\n",
       "    .dataframe tbody tr th:only-of-type {\n",
       "        vertical-align: middle;\n",
       "    }\n",
       "\n",
       "    .dataframe tbody tr th {\n",
       "        vertical-align: top;\n",
       "    }\n",
       "\n",
       "    .dataframe thead th {\n",
       "        text-align: right;\n",
       "    }\n",
       "</style>\n",
       "<table border=\"1\" class=\"dataframe\">\n",
       "  <thead>\n",
       "    <tr style=\"text-align: right;\">\n",
       "      <th></th>\n",
       "      <th>Name</th>\n",
       "      <th>nbOfArtworks</th>\n",
       "    </tr>\n",
       "  </thead>\n",
       "  <tbody>\n",
       "    <tr>\n",
       "      <th>0</th>\n",
       "      <td>Eugène Atget</td>\n",
       "      <td>5050</td>\n",
       "    </tr>\n",
       "    <tr>\n",
       "      <th>1</th>\n",
       "      <td>Louise Bourgeois</td>\n",
       "      <td>3318</td>\n",
       "    </tr>\n",
       "    <tr>\n",
       "      <th>2</th>\n",
       "      <td>Ludwig Mies van der Rohe</td>\n",
       "      <td>2566</td>\n",
       "    </tr>\n",
       "    <tr>\n",
       "      <th>3</th>\n",
       "      <td>Unknown photographer</td>\n",
       "      <td>1575</td>\n",
       "    </tr>\n",
       "    <tr>\n",
       "      <th>4</th>\n",
       "      <td>None</td>\n",
       "      <td>1460</td>\n",
       "    </tr>\n",
       "    <tr>\n",
       "      <th>5</th>\n",
       "      <td>Jean Dubuffet</td>\n",
       "      <td>1435</td>\n",
       "    </tr>\n",
       "    <tr>\n",
       "      <th>6</th>\n",
       "      <td>Lee Friedlander</td>\n",
       "      <td>1317</td>\n",
       "    </tr>\n",
       "    <tr>\n",
       "      <th>7</th>\n",
       "      <td>Pablo Picasso</td>\n",
       "      <td>1310</td>\n",
       "    </tr>\n",
       "    <tr>\n",
       "      <th>8</th>\n",
       "      <td>Marc Chagall</td>\n",
       "      <td>1162</td>\n",
       "    </tr>\n",
       "    <tr>\n",
       "      <th>9</th>\n",
       "      <td>Henri Matisse</td>\n",
       "      <td>1063</td>\n",
       "    </tr>\n",
       "  </tbody>\n",
       "</table>\n",
       "</div>"
      ],
      "text/plain": [
       "                       Name  nbOfArtworks\n",
       "0              Eugène Atget          5050\n",
       "1          Louise Bourgeois          3318\n",
       "2  Ludwig Mies van der Rohe          2566\n",
       "3      Unknown photographer          1575\n",
       "4                      None          1460\n",
       "5             Jean Dubuffet          1435\n",
       "6           Lee Friedlander          1317\n",
       "7             Pablo Picasso          1310\n",
       "8              Marc Chagall          1162\n",
       "9             Henri Matisse          1063"
      ]
     },
     "execution_count": 11,
     "metadata": {},
     "output_type": "execute_result"
    }
   ],
   "source": [
    "pd.read_sql(\"\"\"SELECT Name, COUNT(*) AS nbOfArtworks\n",
    "               FROM artworks\n",
    "               GROUP BY Name\n",
    "               ORDER BY nbOfArtworks DESC \n",
    "               LIMIT 10;\n",
    "            \"\"\"\n",
    "            , connector)"
   ]
  },
  {
   "cell_type": "markdown",
   "metadata": {},
   "source": [
    "Here, we can see 2 feilds that aren't exact artist names : `'None'` and `'Unkown photographer'`. We should explore a bit to see where or not its relevant to ignore them as individual artists."
   ]
  },
  {
   "cell_type": "markdown",
   "metadata": {},
   "source": [
    "The easiest is to begin with `'None'`. It is an obvious Null values in the `artworks` table. Still, we should investigate before ignoring them.   "
   ]
  },
  {
   "cell_type": "code",
   "execution_count": 12,
   "metadata": {},
   "outputs": [
    {
     "data": {
      "text/html": [
       "<div>\n",
       "<style scoped>\n",
       "    .dataframe tbody tr th:only-of-type {\n",
       "        vertical-align: middle;\n",
       "    }\n",
       "\n",
       "    .dataframe tbody tr th {\n",
       "        vertical-align: top;\n",
       "    }\n",
       "\n",
       "    .dataframe thead th {\n",
       "        text-align: right;\n",
       "    }\n",
       "</style>\n",
       "<table border=\"1\" class=\"dataframe\">\n",
       "  <thead>\n",
       "    <tr style=\"text-align: right;\">\n",
       "      <th></th>\n",
       "      <th>Name</th>\n",
       "      <th>Classification</th>\n",
       "      <th>nbOfArtworks</th>\n",
       "    </tr>\n",
       "  </thead>\n",
       "  <tbody>\n",
       "    <tr>\n",
       "      <th>0</th>\n",
       "      <td>None</td>\n",
       "      <td>Print</td>\n",
       "      <td>336</td>\n",
       "    </tr>\n",
       "    <tr>\n",
       "      <th>1</th>\n",
       "      <td>None</td>\n",
       "      <td>Film</td>\n",
       "      <td>226</td>\n",
       "    </tr>\n",
       "    <tr>\n",
       "      <th>2</th>\n",
       "      <td>None</td>\n",
       "      <td>(not assigned)</td>\n",
       "      <td>208</td>\n",
       "    </tr>\n",
       "    <tr>\n",
       "      <th>3</th>\n",
       "      <td>None</td>\n",
       "      <td>Periodical</td>\n",
       "      <td>189</td>\n",
       "    </tr>\n",
       "    <tr>\n",
       "      <th>4</th>\n",
       "      <td>None</td>\n",
       "      <td>Photograph</td>\n",
       "      <td>132</td>\n",
       "    </tr>\n",
       "    <tr>\n",
       "      <th>5</th>\n",
       "      <td>None</td>\n",
       "      <td>Work on Paper</td>\n",
       "      <td>119</td>\n",
       "    </tr>\n",
       "    <tr>\n",
       "      <th>6</th>\n",
       "      <td>None</td>\n",
       "      <td>Frank Lloyd Wright Archive</td>\n",
       "      <td>53</td>\n",
       "    </tr>\n",
       "    <tr>\n",
       "      <th>7</th>\n",
       "      <td>None</td>\n",
       "      <td>Media</td>\n",
       "      <td>43</td>\n",
       "    </tr>\n",
       "    <tr>\n",
       "      <th>8</th>\n",
       "      <td>None</td>\n",
       "      <td>Design</td>\n",
       "      <td>38</td>\n",
       "    </tr>\n",
       "    <tr>\n",
       "      <th>9</th>\n",
       "      <td>None</td>\n",
       "      <td>Illustrated Book</td>\n",
       "      <td>37</td>\n",
       "    </tr>\n",
       "    <tr>\n",
       "      <th>10</th>\n",
       "      <td>None</td>\n",
       "      <td>Multiple</td>\n",
       "      <td>26</td>\n",
       "    </tr>\n",
       "    <tr>\n",
       "      <th>11</th>\n",
       "      <td>None</td>\n",
       "      <td>Drawing</td>\n",
       "      <td>22</td>\n",
       "    </tr>\n",
       "    <tr>\n",
       "      <th>12</th>\n",
       "      <td>None</td>\n",
       "      <td>Installation</td>\n",
       "      <td>14</td>\n",
       "    </tr>\n",
       "    <tr>\n",
       "      <th>13</th>\n",
       "      <td>None</td>\n",
       "      <td>Video</td>\n",
       "      <td>12</td>\n",
       "    </tr>\n",
       "    <tr>\n",
       "      <th>14</th>\n",
       "      <td>None</td>\n",
       "      <td>Architecture</td>\n",
       "      <td>3</td>\n",
       "    </tr>\n",
       "    <tr>\n",
       "      <th>15</th>\n",
       "      <td>None</td>\n",
       "      <td>Audio</td>\n",
       "      <td>1</td>\n",
       "    </tr>\n",
       "    <tr>\n",
       "      <th>16</th>\n",
       "      <td>None</td>\n",
       "      <td>Painting</td>\n",
       "      <td>1</td>\n",
       "    </tr>\n",
       "  </tbody>\n",
       "</table>\n",
       "</div>"
      ],
      "text/plain": [
       "    Name              Classification  nbOfArtworks\n",
       "0   None                       Print           336\n",
       "1   None                        Film           226\n",
       "2   None              (not assigned)           208\n",
       "3   None                  Periodical           189\n",
       "4   None                  Photograph           132\n",
       "5   None               Work on Paper           119\n",
       "6   None  Frank Lloyd Wright Archive            53\n",
       "7   None                       Media            43\n",
       "8   None                      Design            38\n",
       "9   None            Illustrated Book            37\n",
       "10  None                    Multiple            26\n",
       "11  None                     Drawing            22\n",
       "12  None                Installation            14\n",
       "13  None                       Video            12\n",
       "14  None                Architecture             3\n",
       "15  None                       Audio             1\n",
       "16  None                    Painting             1"
      ]
     },
     "execution_count": 12,
     "metadata": {},
     "output_type": "execute_result"
    }
   ],
   "source": [
    "pd.read_sql(\"\"\"SELECT Name, Classification, COUNT(*) AS nbOfArtworks\n",
    "               FROM artworks\n",
    "               WHERE Name IS NULL\n",
    "               GROUP BY Classification\n",
    "               ORDER BY nbOfArtworks DESC;\n",
    "            \"\"\"\n",
    "            , connector)"
   ]
  },
  {
   "cell_type": "markdown",
   "metadata": {},
   "source": [
    "We can see here quite a range of `'Classification'`, it is obvious that one artist cannot master all these technique in one life time. We <em>should not</em> consider `None` value as one artist."
   ]
  },
  {
   "cell_type": "markdown",
   "metadata": {},
   "source": [
    "The same way, we will investigate on this `'Unknown photographer'` before ignoring it as one single artist. But instead of consider `'Classification'`, we would consider the `'Date'` each artwork had been created. "
   ]
  },
  {
   "cell_type": "code",
   "execution_count": 13,
   "metadata": {},
   "outputs": [],
   "source": [
    "years = pd.read_sql(\"\"\"SELECT Date \n",
    "                       FROM artworks\n",
    "                       WHERE Name LIKE 'Unknown photographer';\n",
    "                       \"\"\"\n",
    "                    , connector)\n",
    "\n",
    "# replace every nasted dates by a valid yyyy year format\n",
    "years.replace(to_replace='^.*(\\d{4}).*$', value=r\"\\1\", regex=True, inplace=True)\n",
    "\n",
    "# unify the format of Na values\n",
    "years.replace(to_replace='n.d.', value=None, inplace=True)\n",
    "years.replace(to_replace='n.d', value=None, inplace=True)\n",
    "\n",
    "years.dropna(inplace=True)"
   ]
  },
  {
   "cell_type": "code",
   "execution_count": 14,
   "metadata": {},
   "outputs": [
    {
     "data": {
      "text/plain": [
       "Date    150.0\n",
       "dtype: float64"
      ]
     },
     "execution_count": 14,
     "metadata": {},
     "output_type": "execute_result"
    }
   ],
   "source": [
    "years.max() - years.min()"
   ]
  },
  {
   "cell_type": "markdown",
   "metadata": {},
   "source": [
    "Well, a range of <strong>150 years</strong> is quite high for only one individual, we can't consider 'Unknown photographer' as one single artist. We will drop this line."
   ]
  },
  {
   "cell_type": "code",
   "execution_count": 15,
   "metadata": {},
   "outputs": [
    {
     "data": {
      "text/html": [
       "<div>\n",
       "<style scoped>\n",
       "    .dataframe tbody tr th:only-of-type {\n",
       "        vertical-align: middle;\n",
       "    }\n",
       "\n",
       "    .dataframe tbody tr th {\n",
       "        vertical-align: top;\n",
       "    }\n",
       "\n",
       "    .dataframe thead th {\n",
       "        text-align: right;\n",
       "    }\n",
       "</style>\n",
       "<table border=\"1\" class=\"dataframe\">\n",
       "  <thead>\n",
       "    <tr style=\"text-align: right;\">\n",
       "      <th></th>\n",
       "      <th>Name</th>\n",
       "      <th>nbOfArtworks</th>\n",
       "    </tr>\n",
       "  </thead>\n",
       "  <tbody>\n",
       "    <tr>\n",
       "      <th>0</th>\n",
       "      <td>Eugène Atget</td>\n",
       "      <td>5050</td>\n",
       "    </tr>\n",
       "    <tr>\n",
       "      <th>1</th>\n",
       "      <td>Louise Bourgeois</td>\n",
       "      <td>3318</td>\n",
       "    </tr>\n",
       "    <tr>\n",
       "      <th>2</th>\n",
       "      <td>Ludwig Mies van der Rohe</td>\n",
       "      <td>2566</td>\n",
       "    </tr>\n",
       "    <tr>\n",
       "      <th>3</th>\n",
       "      <td>Jean Dubuffet</td>\n",
       "      <td>1435</td>\n",
       "    </tr>\n",
       "    <tr>\n",
       "      <th>4</th>\n",
       "      <td>Lee Friedlander</td>\n",
       "      <td>1317</td>\n",
       "    </tr>\n",
       "    <tr>\n",
       "      <th>5</th>\n",
       "      <td>Pablo Picasso</td>\n",
       "      <td>1310</td>\n",
       "    </tr>\n",
       "    <tr>\n",
       "      <th>6</th>\n",
       "      <td>Marc Chagall</td>\n",
       "      <td>1162</td>\n",
       "    </tr>\n",
       "    <tr>\n",
       "      <th>7</th>\n",
       "      <td>Henri Matisse</td>\n",
       "      <td>1063</td>\n",
       "    </tr>\n",
       "    <tr>\n",
       "      <th>8</th>\n",
       "      <td>Pierre Bonnard</td>\n",
       "      <td>894</td>\n",
       "    </tr>\n",
       "    <tr>\n",
       "      <th>9</th>\n",
       "      <td>Lilly Reich</td>\n",
       "      <td>823</td>\n",
       "    </tr>\n",
       "  </tbody>\n",
       "</table>\n",
       "</div>"
      ],
      "text/plain": [
       "                       Name  nbOfArtworks\n",
       "0              Eugène Atget          5050\n",
       "1          Louise Bourgeois          3318\n",
       "2  Ludwig Mies van der Rohe          2566\n",
       "3             Jean Dubuffet          1435\n",
       "4           Lee Friedlander          1317\n",
       "5             Pablo Picasso          1310\n",
       "6              Marc Chagall          1162\n",
       "7             Henri Matisse          1063\n",
       "8            Pierre Bonnard           894\n",
       "9               Lilly Reich           823"
      ]
     },
     "execution_count": 15,
     "metadata": {},
     "output_type": "execute_result"
    }
   ],
   "source": [
    "topTen = pd.read_sql(\"\"\"SELECT Name, COUNT(*) AS nbOfArtworks\n",
    "               FROM artworks\n",
    "               WHERE Name NOT NULL\n",
    "               AND Name NOT LIKE 'Unknown photographer'\n",
    "               GROUP BY Name\n",
    "               ORDER BY nbOfArtworks DESC \n",
    "               LIMIT 10;\n",
    "            \"\"\"\n",
    "            , connector)\n",
    "topTen"
   ]
  },
  {
   "cell_type": "markdown",
   "metadata": {},
   "source": [
    "Let's plot this result (design inpired by <a href=\"https://seaborn.pydata.org/examples/color_palettes.html\">seaborn gallery<a>)"
   ]
  },
  {
   "cell_type": "code",
   "execution_count": 16,
   "metadata": {},
   "outputs": [
    {
     "data": {
      "image/png": "[encoded data removed]",
      "text/plain": [
       "<Figure size 864x432 with 1 Axes>"
      ]
     },
     "metadata": {},
     "output_type": "display_data"
    }
   ],
   "source": [
    "sns.set(style=\"white\", context=\"talk\") # general theme\n",
    "\n",
    "f, ax = plt.subplots(1, 1, figsize=(12, 6), sharex=True)\n",
    "x = [ label.replace(' ', '\\n') for label in topTen['Name'] ] # label wrapping\n",
    "y = topTen['nbOfArtworks']\n",
    "sns.barplot(x=x, y=y, palette=\"rocket\") # data attribution and colors\n",
    "\n",
    "ax.axhline(0, color=\"k\", clip_on=False) \n",
    "sns.despine(bottom=True)\n",
    "\n",
    "ax.set_ylabel(\"Number of Artworks\")\n",
    "ax.set_xlabel(\"Artists\")\n",
    "\n",
    "plt.title(\"Top 10 artists by the number of artworks\")\n",
    "plt.tight_layout()"
   ]
  },
  {
   "cell_type": "markdown",
   "metadata": {},
   "source": [
    "## SQL : Which artist is created the most artwork by total surface area?"
   ]
  },
  {
   "cell_type": "markdown",
   "metadata": {},
   "source": [
    "First we will filtrate the data Filter the data with the aim of avoiding `NULL` and `'Unkown ...'` values in `Artworks.Names` column."
   ]
  },
  {
   "cell_type": "markdown",
   "metadata": {},
   "source": [
    "In addition, we will focus on <em>2D artworks</em> to avoid misclassification "
   ]
  },
  {
   "cell_type": "code",
   "execution_count": 18,
   "metadata": {},
   "outputs": [],
   "source": [
    "dimensions = pd.read_sql(\"\"\" SELECT `Diameter (cm)` AS Diameter, `Circumference (cm)` AS Circumference,\n",
    "                                    `Height (cm)` as Height, `Length (cm)` AS Length, `Width (cm)` AS Width, \n",
    "                                    `Depth (cm)` As Depth, Name AS Artist, \n",
    "                             FROM artworks\n",
    "                             WHERE Artist IS NOT NULL\n",
    "                             AND Artist NOT LIKE '%Unknown%';\n",
    "                         \"\"\"\n",
    "                         , connector)"
   ]
  },
  {
   "cell_type": "code",
   "execution_count": 19,
   "metadata": {},
   "outputs": [
    {
     "name": "stdout",
     "output_type": "stream",
     "text": [
      "<class 'pandas.core.frame.DataFrame'>\n",
      "RangeIndex: 125780 entries, 0 to 125779\n",
      "Data columns (total 7 columns):\n",
      "Diameter         1337 non-null float64\n",
      "Circumference    10 non-null float64\n",
      "Height           108175 non-null float64\n",
      "Length           702 non-null float64\n",
      "Width            107331 non-null float64\n",
      "Depth            10843 non-null float64\n",
      "Artist           125780 non-null object\n",
      "dtypes: float64(6), object(1)\n",
      "memory usage: 6.7+ MB\n"
     ]
    }
   ],
   "source": [
    "dimensions.info()"
   ]
  },
  {
   "cell_type": "markdown",
   "metadata": {},
   "source": [
    "Hum ... Only `736` non-null <em>Length</em> entries</div>. Let's see if we can delete this column, let's begin by <em>grouping</em> non-null value by `'Department'`, it could tell us what kind of artwork it is."
   ]
  },
  {
   "cell_type": "code",
   "execution_count": 23,
   "metadata": {},
   "outputs": [
    {
     "data": {
      "text/html": [
       "<div>\n",
       "<style scoped>\n",
       "    .dataframe tbody tr th:only-of-type {\n",
       "        vertical-align: middle;\n",
       "    }\n",
       "\n",
       "    .dataframe tbody tr th {\n",
       "        vertical-align: top;\n",
       "    }\n",
       "\n",
       "    .dataframe thead th {\n",
       "        text-align: right;\n",
       "    }\n",
       "</style>\n",
       "<table border=\"1\" class=\"dataframe\">\n",
       "  <thead>\n",
       "    <tr style=\"text-align: right;\">\n",
       "      <th></th>\n",
       "      <th>Department</th>\n",
       "      <th>nbArtworks</th>\n",
       "    </tr>\n",
       "  </thead>\n",
       "  <tbody>\n",
       "    <tr>\n",
       "      <th>0</th>\n",
       "      <td>Architecture &amp; Design</td>\n",
       "      <td>635</td>\n",
       "    </tr>\n",
       "    <tr>\n",
       "      <th>1</th>\n",
       "      <td>Drawings</td>\n",
       "      <td>1</td>\n",
       "    </tr>\n",
       "    <tr>\n",
       "      <th>2</th>\n",
       "      <td>Fluxus Collection</td>\n",
       "      <td>1</td>\n",
       "    </tr>\n",
       "    <tr>\n",
       "      <th>3</th>\n",
       "      <td>Media and Performance Art</td>\n",
       "      <td>1</td>\n",
       "    </tr>\n",
       "    <tr>\n",
       "      <th>4</th>\n",
       "      <td>Painting &amp; Sculpture</td>\n",
       "      <td>5</td>\n",
       "    </tr>\n",
       "    <tr>\n",
       "      <th>5</th>\n",
       "      <td>Prints &amp; Illustrated Books</td>\n",
       "      <td>34</td>\n",
       "    </tr>\n",
       "  </tbody>\n",
       "</table>\n",
       "</div>"
      ],
      "text/plain": [
       "                   Department  nbArtworks\n",
       "0       Architecture & Design         635\n",
       "1                    Drawings           1\n",
       "2           Fluxus Collection           1\n",
       "3   Media and Performance Art           1\n",
       "4        Painting & Sculpture           5\n",
       "5  Prints & Illustrated Books          34"
      ]
     },
     "execution_count": 23,
     "metadata": {},
     "output_type": "execute_result"
    }
   ],
   "source": [
    "pd.read_sql(\"\"\" SELECT Department, COUNT(Title) AS nbArtworks \n",
    "                FROM artworks \n",
    "                WHERE `Length (cm)` NOT NULL\n",
    "                AND `Length (cm)` <> 0\n",
    "                GROUP BY Department\n",
    "            \"\"\"\n",
    "            , connector)"
   ]
  },
  {
   "cell_type": "markdown",
   "metadata": {},
   "source": [
    "Most of them are 3D artworks and for the others, this loss is negligible. Let's drop this column.\n",
    "Well, thats a good news, because there was 4 cartesian dimensions and in was quite confunsing.\n",
    "Still, we need to replace all `Null` values by `0` to begin to compute the area metric. Let's use `ifnull` from sqlite"
   ]
  },
  {
   "cell_type": "code",
   "execution_count": 66,
   "metadata": {},
   "outputs": [],
   "source": [
    "dimensions = pd.read_sql(\"\"\" SELECT IFNULL(`Diameter (cm)`, 0) AS Diameter,\n",
    "                                    IFNULL(`Circumference (cm)`, 0) AS Circumference, \n",
    "                                    IFNULL(`Height (cm)`, 0) as Height, \n",
    "                                    IFNULL(`Width (cm)`, 0) AS Width, \n",
    "                                    IFNULL(`Depth (cm)`, 0) AS Depth,\n",
    "                                    Name As Artist\n",
    "                             FROM artworks \n",
    "                             WHERE Artist IS NOT NULL\n",
    "                             AND Artist NOT LIKE '%Unknown%';\n",
    "                         \"\"\"\n",
    "                         , connector) "
   ]
  },
  {
   "cell_type": "code",
   "execution_count": 82,
   "metadata": {},
   "outputs": [],
   "source": [
    "artistAndArea = {\"Artist\" : [], \"Area\" : []}"
   ]
  },
  {
   "cell_type": "code",
   "execution_count": 83,
   "metadata": {},
   "outputs": [],
   "source": [
    "def areafromDiameter(x) :\n",
    "    return (np.pi/4)*(x**2)\n",
    "def areafromCircumference(x) : \n",
    "    return (x**2)/(4*np.pi)\n",
    "def areafromDimensions(x,y,z) : \n",
    "    if ( x*y*z != 0 ) :\n",
    "        return 0 # 3D artwork\n",
    "    else :\n",
    "        xy = x*y\n",
    "        yz = y*z\n",
    "        xz = x*z\n",
    "        if ( xy != 0 or yz != 0 or xz != 0 ) : \n",
    "            return (xy if xy != 0 else (yz if yz != 0 else xz)) # 2D artworks\n",
    "        else : \n",
    "            return 0"
   ]
  },
  {
   "cell_type": "code",
   "execution_count": 84,
   "metadata": {},
   "outputs": [],
   "source": [
    "indexList = dimensions.index\n",
    "for index in indexList : \n",
    "    diameter = dimensions['Diameter'][index]\n",
    "    if ( diameter != 0 ) :\n",
    "        artistAndArea['Area'].append(areafromDiameter(diameter))\n",
    "    else : \n",
    "        circumference = dimensions['Circumference'][index] != 0 \n",
    "        if (circumference != 0) : \n",
    "            artistAndArea['Area'].append(areafromCircumference(circumference))\n",
    "        else : \n",
    "            artistAndArea['Area'].append(areafromDimensions(dimensions['Height'][index], \n",
    "                                                          dimensions['Width'][index], \n",
    "                                                          dimensions['Depth'][index]))\n",
    "    artistAndArea['Artist'].append(dimensions['Artist'][index])"
   ]
  },
  {
   "cell_type": "code",
   "execution_count": 85,
   "metadata": {},
   "outputs": [],
   "source": [
    "artistAndArea_df = pd.DataFrame(artistAndArea)"
   ]
  },
  {
   "cell_type": "code",
   "execution_count": 86,
   "metadata": {},
   "outputs": [],
   "source": [
    "artistAndArea_df['Area'].replace(to_replace=0, value=np.NaN, inplace=True)\n",
    "artistAndArea_df.dropna(subset=['Area'], inplace=True)"
   ]
  },
  {
   "cell_type": "code",
   "execution_count": 87,
   "metadata": {},
   "outputs": [],
   "source": [
    "sortedArea = artistAndArea_df.groupby('Artist').agg(['sum'])['Area'].sort_values(by=['sum'], ascending=False)"
   ]
  },
  {
   "cell_type": "code",
   "execution_count": 92,
   "metadata": {},
   "outputs": [
    {
     "data": {
      "text/html": [
       "<div>\n",
       "<style scoped>\n",
       "    .dataframe tbody tr th:only-of-type {\n",
       "        vertical-align: middle;\n",
       "    }\n",
       "\n",
       "    .dataframe tbody tr th {\n",
       "        vertical-align: top;\n",
       "    }\n",
       "\n",
       "    .dataframe thead th {\n",
       "        text-align: right;\n",
       "    }\n",
       "</style>\n",
       "<table border=\"1\" class=\"dataframe\">\n",
       "  <thead>\n",
       "    <tr style=\"text-align: right;\">\n",
       "      <th></th>\n",
       "      <th>sum</th>\n",
       "    </tr>\n",
       "    <tr>\n",
       "      <th>Artist</th>\n",
       "      <th></th>\n",
       "    </tr>\n",
       "  </thead>\n",
       "  <tbody>\n",
       "    <tr>\n",
       "      <th>Ludwig Mies van der Rohe</th>\n",
       "      <td>735.048667</td>\n",
       "    </tr>\n",
       "    <tr>\n",
       "      <th>Louise Bourgeois</th>\n",
       "      <td>420.063538</td>\n",
       "    </tr>\n",
       "    <tr>\n",
       "      <th>Lilly Reich</th>\n",
       "      <td>273.518400</td>\n",
       "    </tr>\n",
       "    <tr>\n",
       "      <th>Frank Lloyd Wright</th>\n",
       "      <td>250.967324</td>\n",
       "    </tr>\n",
       "    <tr>\n",
       "      <th>Robert Rauschenberg</th>\n",
       "      <td>240.279460</td>\n",
       "    </tr>\n",
       "    <tr>\n",
       "      <th>Pablo Picasso</th>\n",
       "      <td>204.625215</td>\n",
       "    </tr>\n",
       "    <tr>\n",
       "      <th>Andy Warhol</th>\n",
       "      <td>168.131063</td>\n",
       "    </tr>\n",
       "    <tr>\n",
       "      <th>Jasper Johns</th>\n",
       "      <td>161.396557</td>\n",
       "    </tr>\n",
       "    <tr>\n",
       "      <th>Henri Matisse</th>\n",
       "      <td>158.427072</td>\n",
       "    </tr>\n",
       "    <tr>\n",
       "      <th>Ellsworth Kelly</th>\n",
       "      <td>154.015395</td>\n",
       "    </tr>\n",
       "  </tbody>\n",
       "</table>\n",
       "</div>"
      ],
      "text/plain": [
       "                                 sum\n",
       "Artist                              \n",
       "Ludwig Mies van der Rohe  735.048667\n",
       "Louise Bourgeois          420.063538\n",
       "Lilly Reich               273.518400\n",
       "Frank Lloyd Wright        250.967324\n",
       "Robert Rauschenberg       240.279460\n",
       "Pablo Picasso             204.625215\n",
       "Andy Warhol               168.131063\n",
       "Jasper Johns              161.396557\n",
       "Henri Matisse             158.427072\n",
       "Ellsworth Kelly           154.015395"
      ]
     },
     "execution_count": 92,
     "metadata": {},
     "output_type": "execute_result"
    }
   ],
   "source": [
    "sortedArea.head(10)/10000 # cm² to m² conversion"
   ]
  },
  {
   "cell_type": "code",
   "execution_count": null,
   "metadata": {},
   "outputs": [],
   "source": []
  },
  {
   "cell_type": "code",
   "execution_count": null,
   "metadata": {},
   "outputs": [],
   "source": []
  },
  {
   "cell_type": "code",
   "execution_count": null,
   "metadata": {},
   "outputs": [],
   "source": []
  },
  {
   "cell_type": "code",
   "execution_count": null,
   "metadata": {},
   "outputs": [],
   "source": []
  },
  {
   "cell_type": "code",
   "execution_count": null,
   "metadata": {},
   "outputs": [],
   "source": []
  },
  {
   "cell_type": "code",
   "execution_count": null,
   "metadata": {},
   "outputs": [],
   "source": []
  },
  {
   "cell_type": "markdown",
   "metadata": {},
   "source": []
  },
  {
   "cell_type": "markdown",
   "metadata": {},
   "source": [
    "## Optionnal (Python, R or SQL) : Did any artists have artwork acquired during their lifetime?"
   ]
  },
  {
   "cell_type": "code",
   "execution_count": 34,
   "metadata": {},
   "outputs": [
    {
     "data": {
      "text/html": [
       "<div>\n",
       "<style scoped>\n",
       "    .dataframe tbody tr th:only-of-type {\n",
       "        vertical-align: middle;\n",
       "    }\n",
       "\n",
       "    .dataframe tbody tr th {\n",
       "        vertical-align: top;\n",
       "    }\n",
       "\n",
       "    .dataframe thead th {\n",
       "        text-align: right;\n",
       "    }\n",
       "</style>\n",
       "<table border=\"1\" class=\"dataframe\">\n",
       "  <thead>\n",
       "    <tr style=\"text-align: right;\">\n",
       "      <th></th>\n",
       "      <th>Artist</th>\n",
       "      <th>Birth</th>\n",
       "      <th>Death</th>\n",
       "      <th>Acquisition</th>\n",
       "    </tr>\n",
       "  </thead>\n",
       "  <tbody>\n",
       "    <tr>\n",
       "      <th>0</th>\n",
       "      <td>Otto Wagner</td>\n",
       "      <td>1841.0</td>\n",
       "      <td>1918.0</td>\n",
       "      <td>1996-04-09</td>\n",
       "    </tr>\n",
       "    <tr>\n",
       "      <th>1</th>\n",
       "      <td>Christian de Portzamparc</td>\n",
       "      <td>1944.0</td>\n",
       "      <td>NaN</td>\n",
       "      <td>1995-01-17</td>\n",
       "    </tr>\n",
       "    <tr>\n",
       "      <th>2</th>\n",
       "      <td>Emil Hoppe</td>\n",
       "      <td>1876.0</td>\n",
       "      <td>1957.0</td>\n",
       "      <td>1997-01-15</td>\n",
       "    </tr>\n",
       "    <tr>\n",
       "      <th>3</th>\n",
       "      <td>Bernard Tschumi</td>\n",
       "      <td>1944.0</td>\n",
       "      <td>NaN</td>\n",
       "      <td>1995-01-17</td>\n",
       "    </tr>\n",
       "    <tr>\n",
       "      <th>4</th>\n",
       "      <td>Emil Hoppe</td>\n",
       "      <td>1876.0</td>\n",
       "      <td>1957.0</td>\n",
       "      <td>1997-01-15</td>\n",
       "    </tr>\n",
       "  </tbody>\n",
       "</table>\n",
       "</div>"
      ],
      "text/plain": [
       "                     Artist   Birth   Death Acquisition\n",
       "0               Otto Wagner  1841.0  1918.0  1996-04-09\n",
       "1  Christian de Portzamparc  1944.0     NaN  1995-01-17\n",
       "2                Emil Hoppe  1876.0  1957.0  1997-01-15\n",
       "3           Bernard Tschumi  1944.0     NaN  1995-01-17\n",
       "4                Emil Hoppe  1876.0  1957.0  1997-01-15"
      ]
     },
     "execution_count": 34,
     "metadata": {},
     "output_type": "execute_result"
    }
   ],
   "source": [
    "join_table = pd.read_sql(\"\"\" SELECT artists.Name AS Artist, artists.`Birth Year` AS Birth, artists.`Death Year` AS Death, \n",
    "                             artworks.`Acquisition Date` AS Acquisition\n",
    "                             FROM artists \n",
    "                             JOIN artworks\n",
    "                             ON artists.`Artist ID` = artworks.`Artist ID`\n",
    "                             WHERE Artist NOT LIKE '%Unknown%'\n",
    "                             AND Acquisition NOT NULL; \n",
    "                         \"\"\"\n",
    "                         , connector)\n",
    "join_table.head()"
   ]
  },
  {
   "cell_type": "markdown",
   "metadata": {},
   "source": [
    "We should do some data transformation and as type standardization if we want to be able to exploit the result "
   ]
  },
  {
   "cell_type": "code",
   "execution_count": 35,
   "metadata": {},
   "outputs": [],
   "source": [
    "# data transformation\n",
    "join_table['Acquisition'].replace(to_replace='^.*(\\d{4}).*$', value=r\"\\1\", regex=True, inplace=True)\n",
    "join_table['Acquisition'] = join_table['Acquisition'].astype(int)\n",
    "join_table[['Death', 'Birth']] = join_table[['Death', 'Birth']].astype('Int32')"
   ]
  },
  {
   "cell_type": "code",
   "execution_count": 36,
   "metadata": {},
   "outputs": [],
   "source": [
    "result = join_table[(join_table['Birth'] <= join_table['Acquisition']) \n",
    "                    & ((join_table['Death'] is None) or (join_table['Acquisition'] <= join_table['Death']))]"
   ]
  },
  {
   "cell_type": "markdown",
   "metadata": {},
   "source": [
    "We could have not checked if `'Birth' <= 'Acquisition'` because it looks like it's obvious but we've done it <em>for safety</em>."
   ]
  },
  {
   "cell_type": "code",
   "execution_count": 91,
   "metadata": {},
   "outputs": [
    {
     "data": {
      "text/plain": [
       "(2592, 1)"
      ]
     },
     "execution_count": 91,
     "metadata": {},
     "output_type": "execute_result"
    }
   ],
   "source": [
    "result.groupby('Artist').agg(['count'])['Acquisition'].shape"
   ]
  },
  {
   "cell_type": "markdown",
   "metadata": {},
   "source": [
    "#### <div style=\"text-align:center;\">Yes, `2592` artists had artwork(s) acquired during their lifetime</div>"
   ]
  },
  {
   "cell_type": "markdown",
   "metadata": {},
   "source": [
    "## Optionnal : Please review the quality of the data, and present any issues"
   ]
  },
  {
   "cell_type": "code",
   "execution_count": null,
   "metadata": {},
   "outputs": [],
   "source": []
  },
  {
   "cell_type": "code",
   "execution_count": null,
   "metadata": {},
   "outputs": [],
   "source": []
  },
  {
   "cell_type": "code",
   "execution_count": null,
   "metadata": {},
   "outputs": [],
   "source": []
  },
  {
   "cell_type": "code",
   "execution_count": null,
   "metadata": {},
   "outputs": [],
   "source": []
  },
  {
   "cell_type": "markdown",
   "metadata": {},
   "source": [
    "## Optionnal (Python, R or SQL) : Please group the artworks into as many clusters as you feel is appropriate, using attributes from both the artist and artworks tables, and assign each artwork to this new cluster."
   ]
  }
 ],
 "metadata": {
  "kernelspec": {
   "display_name": "Python 3",
   "language": "python",
   "name": "python3"
  },
  "language_info": {
   "codemirror_mode": {
    "name": "ipython",
    "version": 3
   },
   "file_extension": ".py",
   "mimetype": "text/x-python",
   "name": "python",
   "nbconvert_exporter": "python",
   "pygments_lexer": "ipython3",
   "version": "3.7.3"
  }
 },
 "nbformat": 4,
 "nbformat_minor": 2
}
